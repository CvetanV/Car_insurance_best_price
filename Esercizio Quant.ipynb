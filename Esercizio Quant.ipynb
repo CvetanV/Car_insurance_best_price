{
 "cells": [
  {
   "cell_type": "markdown",
   "metadata": {},
   "source": [
    "# Lo scopo dell esercizio e implementazione di una soluzione"
   ]
  },
  {
   "cell_type": "markdown",
   "metadata": {},
   "source": [
    "#### Lo scopo del esercizio:\n",
    "L’obiettivo di questa challenge è costruire una tariffa per Prima Assicurazioni, ovvero un modello che riceva in input un set di parametri e restituisca come output il prezzo ottimale da offrire a un cliente. La tariffa che si deve costruire ha lo scopo di massimizzare il profitto che Prima Assicurazioni genera dalla sua attività, misurato come totale dei premi incassati meno totale dei sinistri liquidati.\n"
   ]
  },
  {
   "cell_type": "markdown",
   "metadata": {},
   "source": [
    "#### La mia proposta e il mio metodo di arrivare alla proposta\n",
    "1. Nel inizio di questo file ho fatto import dei framework che sarano uttilizati durante il challenge e ho caricato i CSV file salvati come Pandas dataframe\n",
    "2. Come ogni problema nel ambito di data science, prima bisogna capire che tipo di dati abbiamo in posesso, quindi vedere quali sono i feature, la distribuzione dei valori per i feature, se ci sono dati mancanti su alcuni feature e quali sono i data type dei feature sul dataset.\n",
    "3. Il prossimo step è di transformare i data dentro i tre dataset \"quotazioni_storiche\", \"quotazioni\" e \"storico_rischi\" per gestire tutti i vallori mancanti, encodare i vari feature con vallori string, separare i feature con vallori \"date\" su tre diversi feature \"day\", \"month\" e \"year\".\n",
    "4. Al fine è arrivato il tempo di creare i modeli di regressione e per essere in grado di trovare il \"best price\" per i clienti che sono presenti nel dataframe \"quotazioni\", prima devo creare un ML model che puo trovare il \"risk\" del cliente, cosi avremo il rischio del cliente e lo possiamo uttilizare nella nostra predizione del \"best_price\".\n",
    "5. Creare un modelo ML e testarlo sul dataframe \"storico_rischi\" dove la variabile dipendente è \"risk\"\n",
    "6. Uttilizare il modelo ML precedente creato sul dataframe \"quotazioni_storiche\" per trovare il rischio per le polise nel dataframe e al fine ho aggiunto il feature \"predicted_risk\"\n",
    "7. Creare un altro modelo ML e testarlo sul dataframe \"quotazioni_storiche\" dove la variabile dipendente è \"best_price\"\n",
    "8. Uttilizare il primo modelo ML creato e testato sul dataframe \"storico_rischi\" per trovare il rischio per le polise nel dataframe \"quotazioni\", questo risultato va aggiunto come un feature \"predicted_risk\" nel dataframe \"quotazioni\"\n",
    "9. Uttilizare il secondo modelo ML creato e testato sul dataframe \"quotazioni_storiche\" per trovare il prezzo migliore per le polise nel dataframe \"quotazioni\", che è anche il nostro risultato desiderato."
   ]
  },
  {
   "cell_type": "markdown",
   "metadata": {},
   "source": [
    "# 1. Import frameworks"
   ]
  },
  {
   "cell_type": "code",
   "execution_count": 1,
   "metadata": {},
   "outputs": [],
   "source": [
    "import pandas as pd # Per operazioni con le dataframe\n",
    "import numpy as np # Per operazioni matematici\n",
    "import seaborn as sns # Per crazione dei grafici\n",
    "from sklearn import preprocessing # Per encoding dei feature\n",
    "label_encode = preprocessing.LabelEncoder() # Per encoding dei feature\n",
    "from sklearn import model_selection # Per creazione dei modeli ML\n",
    "from sklearn.model_selection import train_test_split # Per creazione dei modeli ML\n",
    "from sklearn.ensemble import RandomForestRegressor # Per creazione dei modeli ML\n",
    "from sklearn.metrics import mean_squared_log_error # Per verificare il performance del nostro modelo"
   ]
  },
  {
   "cell_type": "markdown",
   "metadata": {},
   "source": [
    "# 2. Caricamento data"
   ]
  },
  {
   "cell_type": "code",
   "execution_count": 2,
   "metadata": {},
   "outputs": [],
   "source": [
    "def import_csv_file(path):\n",
    "    data_CSV = pd.read_csv(path)\n",
    "    return data_CSV"
   ]
  },
  {
   "cell_type": "code",
   "execution_count": 3,
   "metadata": {},
   "outputs": [
    {
     "name": "stderr",
     "output_type": "stream",
     "text": [
      "C:\\Users\\cvveljanovski\\Anaconda3\\lib\\site-packages\\IPython\\core\\interactiveshell.py:3338: DtypeWarning: Columns (13) have mixed types.Specify dtype option on import or set low_memory=False.\n",
      "  if (await self.run_code(code, result,  async_=asy)):\n"
     ]
    }
   ],
   "source": [
    "quotazioni_storiche = import_csv_file(\"quotazioni storiche con bestprice.csv\")\n",
    "quotazioni = import_csv_file(\"quotazioni.csv\")\n",
    "storico_rischi = import_csv_file(\"storico rischi.csv\")"
   ]
  },
  {
   "cell_type": "markdown",
   "metadata": {},
   "source": [
    "# 3. Una semplice exploratory data analysis sui dataframe \"quotazioni_storiche\" e \"storico_rischi\""
   ]
  },
  {
   "cell_type": "code",
   "execution_count": 4,
   "metadata": {},
   "outputs": [
    {
     "data": {
      "text/html": [
       "<div>\n",
       "<style scoped>\n",
       "    .dataframe tbody tr th:only-of-type {\n",
       "        vertical-align: middle;\n",
       "    }\n",
       "\n",
       "    .dataframe tbody tr th {\n",
       "        vertical-align: top;\n",
       "    }\n",
       "\n",
       "    .dataframe thead th {\n",
       "        text-align: right;\n",
       "    }\n",
       "</style>\n",
       "<table border=\"1\" class=\"dataframe\">\n",
       "  <thead>\n",
       "    <tr style=\"text-align: right;\">\n",
       "      <th></th>\n",
       "      <th>data_quote</th>\n",
       "      <th>data_decorrenza_richiesta</th>\n",
       "      <th>tipo_guida</th>\n",
       "      <th>insurance_type</th>\n",
       "      <th>contr_birth_date</th>\n",
       "      <th>contr_license_year</th>\n",
       "      <th>contr_marital_status</th>\n",
       "      <th>contr_occupation</th>\n",
       "      <th>contr_res_prov</th>\n",
       "      <th>contr_res_region_name</th>\n",
       "      <th>...</th>\n",
       "      <th>veh_consumption</th>\n",
       "      <th>veh_kw_group</th>\n",
       "      <th>veh_height</th>\n",
       "      <th>veh_length</th>\n",
       "      <th>veh_width</th>\n",
       "      <th>veh_mass</th>\n",
       "      <th>veh_mileage_cpt</th>\n",
       "      <th>pol_classe_cu</th>\n",
       "      <th>atr_claims</th>\n",
       "      <th>best_price</th>\n",
       "    </tr>\n",
       "  </thead>\n",
       "  <tbody>\n",
       "    <tr>\n",
       "      <th>0</th>\n",
       "      <td>2020-03-04</td>\n",
       "      <td>2020-03-15</td>\n",
       "      <td>expert</td>\n",
       "      <td>B</td>\n",
       "      <td>1970-01-01</td>\n",
       "      <td>1988.0</td>\n",
       "      <td>married_with_kids</td>\n",
       "      <td>Impiegato / Quadro / Dirigente</td>\n",
       "      <td>MI</td>\n",
       "      <td>Lombardia</td>\n",
       "      <td>...</td>\n",
       "      <td>6.7</td>\n",
       "      <td>70</td>\n",
       "      <td>1498</td>\n",
       "      <td>4336</td>\n",
       "      <td>1792</td>\n",
       "      <td>1280.0</td>\n",
       "      <td>10</td>\n",
       "      <td>1</td>\n",
       "      <td>0</td>\n",
       "      <td>455.46</td>\n",
       "    </tr>\n",
       "    <tr>\n",
       "      <th>1</th>\n",
       "      <td>2020-02-20</td>\n",
       "      <td>2020-03-16</td>\n",
       "      <td>expert</td>\n",
       "      <td>B</td>\n",
       "      <td>1975-01-01</td>\n",
       "      <td>1993.0</td>\n",
       "      <td>married_with_kids</td>\n",
       "      <td>Operaio</td>\n",
       "      <td>BO</td>\n",
       "      <td>Emilia-Romagna</td>\n",
       "      <td>...</td>\n",
       "      <td>5.6</td>\n",
       "      <td>90</td>\n",
       "      <td>1635</td>\n",
       "      <td>4440</td>\n",
       "      <td>1855</td>\n",
       "      <td>1490.0</td>\n",
       "      <td>10</td>\n",
       "      <td>1</td>\n",
       "      <td>0</td>\n",
       "      <td>523.36</td>\n",
       "    </tr>\n",
       "    <tr>\n",
       "      <th>2</th>\n",
       "      <td>2020-02-10</td>\n",
       "      <td>2020-02-21</td>\n",
       "      <td>expert</td>\n",
       "      <td>B</td>\n",
       "      <td>1973-01-01</td>\n",
       "      <td>1991.0</td>\n",
       "      <td>single</td>\n",
       "      <td>Impiegato / Quadro / Dirigente</td>\n",
       "      <td>UD</td>\n",
       "      <td>Friuli-Venezia Giulia</td>\n",
       "      <td>...</td>\n",
       "      <td>5.1</td>\n",
       "      <td>90</td>\n",
       "      <td>1573</td>\n",
       "      <td>4234</td>\n",
       "      <td>1819</td>\n",
       "      <td>1270.0</td>\n",
       "      <td>10</td>\n",
       "      <td>1</td>\n",
       "      <td>0</td>\n",
       "      <td>516.91</td>\n",
       "    </tr>\n",
       "    <tr>\n",
       "      <th>3</th>\n",
       "      <td>2020-01-04</td>\n",
       "      <td>2020-02-07</td>\n",
       "      <td>expert</td>\n",
       "      <td>B</td>\n",
       "      <td>1955-03-01</td>\n",
       "      <td>1974.0</td>\n",
       "      <td>married_with_kids</td>\n",
       "      <td>Impiegato / Quadro / Dirigente</td>\n",
       "      <td>PD</td>\n",
       "      <td>Veneto</td>\n",
       "      <td>...</td>\n",
       "      <td>6.5</td>\n",
       "      <td>120</td>\n",
       "      <td>1488</td>\n",
       "      <td>3657</td>\n",
       "      <td>1627</td>\n",
       "      <td>1110.0</td>\n",
       "      <td>10</td>\n",
       "      <td>1</td>\n",
       "      <td>0</td>\n",
       "      <td>446.29</td>\n",
       "    </tr>\n",
       "    <tr>\n",
       "      <th>4</th>\n",
       "      <td>2020-02-06</td>\n",
       "      <td>2020-03-12</td>\n",
       "      <td>expert</td>\n",
       "      <td>B</td>\n",
       "      <td>1983-12-01</td>\n",
       "      <td>2001.0</td>\n",
       "      <td>married_no_kids</td>\n",
       "      <td>Operaio</td>\n",
       "      <td>RM</td>\n",
       "      <td>Lazio</td>\n",
       "      <td>...</td>\n",
       "      <td>5.2</td>\n",
       "      <td>110</td>\n",
       "      <td>1590</td>\n",
       "      <td>4385</td>\n",
       "      <td>1831</td>\n",
       "      <td>1520.0</td>\n",
       "      <td>10</td>\n",
       "      <td>6</td>\n",
       "      <td>0</td>\n",
       "      <td>783.90</td>\n",
       "    </tr>\n",
       "  </tbody>\n",
       "</table>\n",
       "<p>5 rows × 26 columns</p>\n",
       "</div>"
      ],
      "text/plain": [
       "   data_quote data_decorrenza_richiesta tipo_guida insurance_type  \\\n",
       "0  2020-03-04                2020-03-15     expert              B   \n",
       "1  2020-02-20                2020-03-16     expert              B   \n",
       "2  2020-02-10                2020-02-21     expert              B   \n",
       "3  2020-01-04                2020-02-07     expert              B   \n",
       "4  2020-02-06                2020-03-12     expert              B   \n",
       "\n",
       "  contr_birth_date  contr_license_year contr_marital_status  \\\n",
       "0       1970-01-01              1988.0    married_with_kids   \n",
       "1       1975-01-01              1993.0    married_with_kids   \n",
       "2       1973-01-01              1991.0               single   \n",
       "3       1955-03-01              1974.0    married_with_kids   \n",
       "4       1983-12-01              2001.0      married_no_kids   \n",
       "\n",
       "                 contr_occupation contr_res_prov  contr_res_region_name  ...  \\\n",
       "0  Impiegato / Quadro / Dirigente             MI              Lombardia  ...   \n",
       "1                         Operaio             BO         Emilia-Romagna  ...   \n",
       "2  Impiegato / Quadro / Dirigente             UD  Friuli-Venezia Giulia  ...   \n",
       "3  Impiegato / Quadro / Dirigente             PD                 Veneto  ...   \n",
       "4                         Operaio             RM                  Lazio  ...   \n",
       "\n",
       "  veh_consumption veh_kw_group veh_height veh_length  veh_width veh_mass  \\\n",
       "0             6.7           70       1498       4336       1792   1280.0   \n",
       "1             5.6           90       1635       4440       1855   1490.0   \n",
       "2             5.1           90       1573       4234       1819   1270.0   \n",
       "3             6.5          120       1488       3657       1627   1110.0   \n",
       "4             5.2          110       1590       4385       1831   1520.0   \n",
       "\n",
       "   veh_mileage_cpt  pol_classe_cu  atr_claims  best_price  \n",
       "0               10              1           0      455.46  \n",
       "1               10              1           0      523.36  \n",
       "2               10              1           0      516.91  \n",
       "3               10              1           0      446.29  \n",
       "4               10              6           0      783.90  \n",
       "\n",
       "[5 rows x 26 columns]"
      ]
     },
     "execution_count": 4,
     "metadata": {},
     "output_type": "execute_result"
    }
   ],
   "source": [
    "# Vediamo le prime 5 righe der dataframe\n",
    "quotazioni_storiche.head()"
   ]
  },
  {
   "cell_type": "code",
   "execution_count": 5,
   "metadata": {},
   "outputs": [
    {
     "data": {
      "text/plain": [
       "data_quote                      0\n",
       "data_decorrenza_richiesta       0\n",
       "tipo_guida                      0\n",
       "insurance_type                  0\n",
       "contr_birth_date             2448\n",
       "contr_license_year           2955\n",
       "contr_marital_status            0\n",
       "contr_occupation                0\n",
       "contr_res_prov               6889\n",
       "contr_res_region_name           0\n",
       "veh_registration_date           0\n",
       "veh_purchase_date               0\n",
       "veh_brand_name                  0\n",
       "veh_doors_number                0\n",
       "veh_value                       0\n",
       "veh_alimentazione               0\n",
       "veh_consumption                 5\n",
       "veh_kw_group                    0\n",
       "veh_height                      0\n",
       "veh_length                      0\n",
       "veh_width                       0\n",
       "veh_mass                        5\n",
       "veh_mileage_cpt                 0\n",
       "pol_classe_cu                   0\n",
       "atr_claims                      0\n",
       "best_price                      0\n",
       "dtype: int64"
      ]
     },
     "execution_count": 5,
     "metadata": {},
     "output_type": "execute_result"
    }
   ],
   "source": [
    "# Quali feature hanno vallori mancanti\n",
    "quotazioni_storiche.isnull().sum()"
   ]
  },
  {
   "cell_type": "code",
   "execution_count": 6,
   "metadata": {},
   "outputs": [
    {
     "name": "stdout",
     "output_type": "stream",
     "text": [
      "<class 'pandas.core.frame.DataFrame'>\n",
      "RangeIndex: 307128 entries, 0 to 307127\n",
      "Data columns (total 26 columns):\n",
      " #   Column                     Non-Null Count   Dtype  \n",
      "---  ------                     --------------   -----  \n",
      " 0   data_quote                 307128 non-null  object \n",
      " 1   data_decorrenza_richiesta  307128 non-null  object \n",
      " 2   tipo_guida                 307128 non-null  object \n",
      " 3   insurance_type             307128 non-null  object \n",
      " 4   contr_birth_date           304680 non-null  object \n",
      " 5   contr_license_year         304173 non-null  float64\n",
      " 6   contr_marital_status       307128 non-null  object \n",
      " 7   contr_occupation           307128 non-null  object \n",
      " 8   contr_res_prov             300239 non-null  object \n",
      " 9   contr_res_region_name      307128 non-null  object \n",
      " 10  veh_registration_date      307128 non-null  object \n",
      " 11  veh_purchase_date          307128 non-null  object \n",
      " 12  veh_brand_name             307128 non-null  object \n",
      " 13  veh_doors_number           307128 non-null  object \n",
      " 14  veh_value                  307128 non-null  int64  \n",
      " 15  veh_alimentazione          307128 non-null  object \n",
      " 16  veh_consumption            307123 non-null  float64\n",
      " 17  veh_kw_group               307128 non-null  int64  \n",
      " 18  veh_height                 307128 non-null  int64  \n",
      " 19  veh_length                 307128 non-null  int64  \n",
      " 20  veh_width                  307128 non-null  int64  \n",
      " 21  veh_mass                   307123 non-null  float64\n",
      " 22  veh_mileage_cpt            307128 non-null  object \n",
      " 23  pol_classe_cu              307128 non-null  int64  \n",
      " 24  atr_claims                 307128 non-null  int64  \n",
      " 25  best_price                 307128 non-null  float64\n",
      "dtypes: float64(4), int64(7), object(15)\n",
      "memory usage: 60.9+ MB\n"
     ]
    }
   ],
   "source": [
    "# Quali sono i datatype dei feature\n",
    "quotazioni_storiche.info()"
   ]
  },
  {
   "cell_type": "code",
   "execution_count": 7,
   "metadata": {},
   "outputs": [
    {
     "data": {
      "text/html": [
       "<div>\n",
       "<style scoped>\n",
       "    .dataframe tbody tr th:only-of-type {\n",
       "        vertical-align: middle;\n",
       "    }\n",
       "\n",
       "    .dataframe tbody tr th {\n",
       "        vertical-align: top;\n",
       "    }\n",
       "\n",
       "    .dataframe thead th {\n",
       "        text-align: right;\n",
       "    }\n",
       "</style>\n",
       "<table border=\"1\" class=\"dataframe\">\n",
       "  <thead>\n",
       "    <tr style=\"text-align: right;\">\n",
       "      <th></th>\n",
       "      <th>data_quote</th>\n",
       "      <th>data_decorrenza_richiesta</th>\n",
       "      <th>tipo_guida</th>\n",
       "      <th>insurance_type</th>\n",
       "      <th>contr_birth_date</th>\n",
       "      <th>contr_license_year</th>\n",
       "      <th>contr_marital_status</th>\n",
       "      <th>contr_occupation</th>\n",
       "      <th>contr_res_prov</th>\n",
       "      <th>contr_res_region_name</th>\n",
       "      <th>...</th>\n",
       "      <th>veh_consumption</th>\n",
       "      <th>veh_kw_group</th>\n",
       "      <th>veh_height</th>\n",
       "      <th>veh_length</th>\n",
       "      <th>veh_width</th>\n",
       "      <th>veh_mass</th>\n",
       "      <th>veh_mileage_cpt</th>\n",
       "      <th>pol_classe_cu</th>\n",
       "      <th>atr_claims</th>\n",
       "      <th>risk</th>\n",
       "    </tr>\n",
       "  </thead>\n",
       "  <tbody>\n",
       "    <tr>\n",
       "      <th>0</th>\n",
       "      <td>2020-01-23</td>\n",
       "      <td>2020-02-07</td>\n",
       "      <td>expert</td>\n",
       "      <td>B</td>\n",
       "      <td>1955-03-01</td>\n",
       "      <td>1973.0</td>\n",
       "      <td>married_no_kids</td>\n",
       "      <td>Pensionato</td>\n",
       "      <td>SA</td>\n",
       "      <td>Campania</td>\n",
       "      <td>...</td>\n",
       "      <td>5.3</td>\n",
       "      <td>60</td>\n",
       "      <td>1490</td>\n",
       "      <td>4065</td>\n",
       "      <td>1687</td>\n",
       "      <td>1105.0</td>\n",
       "      <td>10</td>\n",
       "      <td>1</td>\n",
       "      <td>0</td>\n",
       "      <td>0.00</td>\n",
       "    </tr>\n",
       "    <tr>\n",
       "      <th>1</th>\n",
       "      <td>2020-02-18</td>\n",
       "      <td>2020-02-24</td>\n",
       "      <td>exclusive</td>\n",
       "      <td>N</td>\n",
       "      <td>1966-02-01</td>\n",
       "      <td>1984.0</td>\n",
       "      <td>married_with_kids</td>\n",
       "      <td>Impiegato / Quadro / Dirigente</td>\n",
       "      <td>AN</td>\n",
       "      <td>Marche</td>\n",
       "      <td>...</td>\n",
       "      <td>5.7</td>\n",
       "      <td>110</td>\n",
       "      <td>1635</td>\n",
       "      <td>4355</td>\n",
       "      <td>1900</td>\n",
       "      <td>1670.0</td>\n",
       "      <td>10</td>\n",
       "      <td>14</td>\n",
       "      <td>0</td>\n",
       "      <td>0.00</td>\n",
       "    </tr>\n",
       "    <tr>\n",
       "      <th>2</th>\n",
       "      <td>2020-01-07</td>\n",
       "      <td>2020-01-23</td>\n",
       "      <td>exclusive</td>\n",
       "      <td>B</td>\n",
       "      <td>1969-04-01</td>\n",
       "      <td>1987.0</td>\n",
       "      <td>single</td>\n",
       "      <td>Operaio</td>\n",
       "      <td>VR</td>\n",
       "      <td>Veneto</td>\n",
       "      <td>...</td>\n",
       "      <td>6.2</td>\n",
       "      <td>70</td>\n",
       "      <td>1624</td>\n",
       "      <td>4052</td>\n",
       "      <td>1694</td>\n",
       "      <td>1369.0</td>\n",
       "      <td>10</td>\n",
       "      <td>1</td>\n",
       "      <td>0</td>\n",
       "      <td>0.00</td>\n",
       "    </tr>\n",
       "    <tr>\n",
       "      <th>3</th>\n",
       "      <td>2020-02-24</td>\n",
       "      <td>2020-03-22</td>\n",
       "      <td>expert</td>\n",
       "      <td>B</td>\n",
       "      <td>1948-12-01</td>\n",
       "      <td>1968.0</td>\n",
       "      <td>married_no_kids</td>\n",
       "      <td>Pensionato</td>\n",
       "      <td>RM</td>\n",
       "      <td>Lazio</td>\n",
       "      <td>...</td>\n",
       "      <td>6.0</td>\n",
       "      <td>40</td>\n",
       "      <td>1420</td>\n",
       "      <td>3337</td>\n",
       "      <td>1508</td>\n",
       "      <td>810.0</td>\n",
       "      <td>10</td>\n",
       "      <td>1</td>\n",
       "      <td>0</td>\n",
       "      <td>0.00</td>\n",
       "    </tr>\n",
       "    <tr>\n",
       "      <th>4</th>\n",
       "      <td>2020-02-04</td>\n",
       "      <td>2020-02-16</td>\n",
       "      <td>expert</td>\n",
       "      <td>B</td>\n",
       "      <td>1953-06-01</td>\n",
       "      <td>1972.0</td>\n",
       "      <td>married_with_kids</td>\n",
       "      <td>Pensionato</td>\n",
       "      <td>UD</td>\n",
       "      <td>Friuli-Venezia Giulia</td>\n",
       "      <td>...</td>\n",
       "      <td>4.8</td>\n",
       "      <td>60</td>\n",
       "      <td>1467</td>\n",
       "      <td>4257</td>\n",
       "      <td>1732</td>\n",
       "      <td>1079.0</td>\n",
       "      <td>10</td>\n",
       "      <td>1</td>\n",
       "      <td>0</td>\n",
       "      <td>1056.34</td>\n",
       "    </tr>\n",
       "  </tbody>\n",
       "</table>\n",
       "<p>5 rows × 26 columns</p>\n",
       "</div>"
      ],
      "text/plain": [
       "   data_quote data_decorrenza_richiesta tipo_guida insurance_type  \\\n",
       "0  2020-01-23                2020-02-07     expert              B   \n",
       "1  2020-02-18                2020-02-24  exclusive              N   \n",
       "2  2020-01-07                2020-01-23  exclusive              B   \n",
       "3  2020-02-24                2020-03-22     expert              B   \n",
       "4  2020-02-04                2020-02-16     expert              B   \n",
       "\n",
       "  contr_birth_date  contr_license_year contr_marital_status  \\\n",
       "0       1955-03-01              1973.0      married_no_kids   \n",
       "1       1966-02-01              1984.0    married_with_kids   \n",
       "2       1969-04-01              1987.0               single   \n",
       "3       1948-12-01              1968.0      married_no_kids   \n",
       "4       1953-06-01              1972.0    married_with_kids   \n",
       "\n",
       "                 contr_occupation contr_res_prov  contr_res_region_name  ...  \\\n",
       "0                      Pensionato             SA               Campania  ...   \n",
       "1  Impiegato / Quadro / Dirigente             AN                 Marche  ...   \n",
       "2                         Operaio             VR                 Veneto  ...   \n",
       "3                      Pensionato             RM                  Lazio  ...   \n",
       "4                      Pensionato             UD  Friuli-Venezia Giulia  ...   \n",
       "\n",
       "  veh_consumption veh_kw_group veh_height veh_length  veh_width veh_mass  \\\n",
       "0             5.3           60       1490       4065       1687   1105.0   \n",
       "1             5.7          110       1635       4355       1900   1670.0   \n",
       "2             6.2           70       1624       4052       1694   1369.0   \n",
       "3             6.0           40       1420       3337       1508    810.0   \n",
       "4             4.8           60       1467       4257       1732   1079.0   \n",
       "\n",
       "   veh_mileage_cpt  pol_classe_cu  atr_claims     risk  \n",
       "0               10              1           0     0.00  \n",
       "1               10             14           0     0.00  \n",
       "2               10              1           0     0.00  \n",
       "3               10              1           0     0.00  \n",
       "4               10              1           0  1056.34  \n",
       "\n",
       "[5 rows x 26 columns]"
      ]
     },
     "execution_count": 7,
     "metadata": {},
     "output_type": "execute_result"
    }
   ],
   "source": [
    "# Vediamo le prime 5 righe der dataframe\n",
    "storico_rischi.head()"
   ]
  },
  {
   "cell_type": "code",
   "execution_count": 8,
   "metadata": {},
   "outputs": [
    {
     "data": {
      "text/plain": [
       "data_quote                       0\n",
       "data_decorrenza_richiesta        0\n",
       "tipo_guida                       0\n",
       "insurance_type                   0\n",
       "contr_birth_date              6664\n",
       "contr_license_year            8104\n",
       "contr_marital_status             0\n",
       "contr_occupation                 0\n",
       "contr_res_prov               18316\n",
       "contr_res_region_name            0\n",
       "veh_registration_date            0\n",
       "veh_purchase_date                0\n",
       "veh_brand_name                   0\n",
       "veh_doors_number                 0\n",
       "veh_value                        0\n",
       "veh_alimentazione                0\n",
       "veh_consumption                 17\n",
       "veh_kw_group                     0\n",
       "veh_height                       0\n",
       "veh_length                       0\n",
       "veh_width                        0\n",
       "veh_mass                        17\n",
       "veh_mileage_cpt                  0\n",
       "pol_classe_cu                    0\n",
       "atr_claims                       0\n",
       "risk                             0\n",
       "dtype: int64"
      ]
     },
     "execution_count": 8,
     "metadata": {},
     "output_type": "execute_result"
    }
   ],
   "source": [
    "# Quali feature hanno vallori mancanti\n",
    "storico_rischi.isnull().sum()"
   ]
  },
  {
   "cell_type": "code",
   "execution_count": 9,
   "metadata": {},
   "outputs": [
    {
     "name": "stdout",
     "output_type": "stream",
     "text": [
      "<class 'pandas.core.frame.DataFrame'>\n",
      "RangeIndex: 828544 entries, 0 to 828543\n",
      "Data columns (total 26 columns):\n",
      " #   Column                     Non-Null Count   Dtype  \n",
      "---  ------                     --------------   -----  \n",
      " 0   data_quote                 828544 non-null  object \n",
      " 1   data_decorrenza_richiesta  828544 non-null  object \n",
      " 2   tipo_guida                 828544 non-null  object \n",
      " 3   insurance_type             828544 non-null  object \n",
      " 4   contr_birth_date           821880 non-null  object \n",
      " 5   contr_license_year         820440 non-null  float64\n",
      " 6   contr_marital_status       828544 non-null  object \n",
      " 7   contr_occupation           828544 non-null  object \n",
      " 8   contr_res_prov             810228 non-null  object \n",
      " 9   contr_res_region_name      828544 non-null  object \n",
      " 10  veh_registration_date      828544 non-null  object \n",
      " 11  veh_purchase_date          828544 non-null  object \n",
      " 12  veh_brand_name             828544 non-null  object \n",
      " 13  veh_doors_number           828544 non-null  object \n",
      " 14  veh_value                  828544 non-null  int64  \n",
      " 15  veh_alimentazione          828544 non-null  object \n",
      " 16  veh_consumption            828527 non-null  float64\n",
      " 17  veh_kw_group               828544 non-null  int64  \n",
      " 18  veh_height                 828544 non-null  int64  \n",
      " 19  veh_length                 828544 non-null  int64  \n",
      " 20  veh_width                  828544 non-null  int64  \n",
      " 21  veh_mass                   828527 non-null  float64\n",
      " 22  veh_mileage_cpt            828544 non-null  object \n",
      " 23  pol_classe_cu              828544 non-null  int64  \n",
      " 24  atr_claims                 828544 non-null  int64  \n",
      " 25  risk                       828544 non-null  float64\n",
      "dtypes: float64(4), int64(7), object(15)\n",
      "memory usage: 164.4+ MB\n"
     ]
    }
   ],
   "source": [
    "# Quali sono i datatype dei feature\n",
    "storico_rischi.info()"
   ]
  },
  {
   "cell_type": "markdown",
   "metadata": {},
   "source": [
    "## Distribuzione dei valori su alcuni feature"
   ]
  },
  {
   "cell_type": "code",
   "execution_count": 10,
   "metadata": {},
   "outputs": [
    {
     "name": "stderr",
     "output_type": "stream",
     "text": [
      "C:\\Users\\cvveljanovski\\Anaconda3\\lib\\site-packages\\seaborn\\categorical.py:3704: UserWarning: The `factorplot` function has been renamed to `catplot`. The original name will be removed in a future release. Please update your code. Note that the default `kind` in `factorplot` (`'point'`) has changed `'strip'` in `catplot`.\n",
      "  warnings.warn(msg)\n",
      "C:\\Users\\cvveljanovski\\Anaconda3\\lib\\site-packages\\seaborn\\categorical.py:3710: UserWarning: The `size` parameter has been renamed to `height`; please update your code.\n",
      "  warnings.warn(msg, UserWarning)\n"
     ]
    },
    {
     "data": {
      "text/plain": [
       "<seaborn.axisgrid.FacetGrid at 0x192858727c0>"
      ]
     },
     "execution_count": 10,
     "metadata": {},
     "output_type": "execute_result"
    },
    {
     "data": {
      "image/png": "[encoded data removed]",
      "text/plain": [
       "<Figure size 720x360 with 1 Axes>"
      ]
     },
     "metadata": {
      "needs_background": "light"
     },
     "output_type": "display_data"
    }
   ],
   "source": [
    "# Distribuzione del feature \"tipo guida\"\n",
    "sns.factorplot(data=quotazioni_storiche, x = \"tipo_guida\", kind=\"count\", size = 5, aspect = 2)"
   ]
  },
  {
   "cell_type": "markdown",
   "metadata": {},
   "source": [
    "Dal grafico possiamo vedere che il maggior numero di polise assicurative è stato rilasciato per motifi di guida expert"
   ]
  },
  {
   "cell_type": "code",
   "execution_count": 11,
   "metadata": {},
   "outputs": [
    {
     "name": "stderr",
     "output_type": "stream",
     "text": [
      "C:\\Users\\cvveljanovski\\Anaconda3\\lib\\site-packages\\seaborn\\categorical.py:3704: UserWarning: The `factorplot` function has been renamed to `catplot`. The original name will be removed in a future release. Please update your code. Note that the default `kind` in `factorplot` (`'point'`) has changed `'strip'` in `catplot`.\n",
      "  warnings.warn(msg)\n",
      "C:\\Users\\cvveljanovski\\Anaconda3\\lib\\site-packages\\seaborn\\categorical.py:3710: UserWarning: The `size` parameter has been renamed to `height`; please update your code.\n",
      "  warnings.warn(msg, UserWarning)\n"
     ]
    },
    {
     "data": {
      "text/plain": [
       "<seaborn.axisgrid.FacetGrid at 0x1928b5b0790>"
      ]
     },
     "execution_count": 11,
     "metadata": {},
     "output_type": "execute_result"
    },
    {
     "data": {
      "image/png": "[encoded data removed]",
      "text/plain": [
       "<Figure size 720x360 with 1 Axes>"
      ]
     },
     "metadata": {
      "needs_background": "light"
     },
     "output_type": "display_data"
    }
   ],
   "source": [
    "# Distribuzione del feature \"insurance_type\"\n",
    "sns.factorplot(data=quotazioni_storiche, x = \"insurance_type\", kind=\"count\", size = 5, aspect = 2)"
   ]
  },
  {
   "cell_type": "markdown",
   "metadata": {},
   "source": [
    "Dal grafico possiamo vedere che il maggior numero di polise assicurative è stato rilasciato per tipo di assicurazione \"B\""
   ]
  },
  {
   "cell_type": "code",
   "execution_count": 12,
   "metadata": {},
   "outputs": [
    {
     "name": "stderr",
     "output_type": "stream",
     "text": [
      "C:\\Users\\cvveljanovski\\Anaconda3\\lib\\site-packages\\seaborn\\categorical.py:3704: UserWarning: The `factorplot` function has been renamed to `catplot`. The original name will be removed in a future release. Please update your code. Note that the default `kind` in `factorplot` (`'point'`) has changed `'strip'` in `catplot`.\n",
      "  warnings.warn(msg)\n",
      "C:\\Users\\cvveljanovski\\Anaconda3\\lib\\site-packages\\seaborn\\categorical.py:3710: UserWarning: The `size` parameter has been renamed to `height`; please update your code.\n",
      "  warnings.warn(msg, UserWarning)\n"
     ]
    },
    {
     "data": {
      "text/plain": [
       "<seaborn.axisgrid.FacetGrid at 0x1928ba508e0>"
      ]
     },
     "execution_count": 12,
     "metadata": {},
     "output_type": "execute_result"
    },
    {
     "data": {
      "image/png": "[encoded data removed]",
      "text/plain": [
       "<Figure size 720x360 with 1 Axes>"
      ]
     },
     "metadata": {
      "needs_background": "light"
     },
     "output_type": "display_data"
    }
   ],
   "source": [
    "# Distribuzione del feature \"contr_marital_status\"\n",
    "sns.factorplot(data=quotazioni_storiche, y = \"contr_marital_status\", kind=\"count\", size = 5, aspect = 2)"
   ]
  },
  {
   "cell_type": "markdown",
   "metadata": {},
   "source": [
    "Dal grafico possiamo vedere che il maggior numero di polise assicurative è stato rilasciato alle persone \"sposati e con bambini\" e uguale numero di persone \"single\" e \"sposati senza bambini\""
   ]
  },
  {
   "cell_type": "code",
   "execution_count": 13,
   "metadata": {},
   "outputs": [
    {
     "name": "stderr",
     "output_type": "stream",
     "text": [
      "C:\\Users\\cvveljanovski\\Anaconda3\\lib\\site-packages\\seaborn\\categorical.py:3704: UserWarning: The `factorplot` function has been renamed to `catplot`. The original name will be removed in a future release. Please update your code. Note that the default `kind` in `factorplot` (`'point'`) has changed `'strip'` in `catplot`.\n",
      "  warnings.warn(msg)\n",
      "C:\\Users\\cvveljanovski\\Anaconda3\\lib\\site-packages\\seaborn\\categorical.py:3710: UserWarning: The `size` parameter has been renamed to `height`; please update your code.\n",
      "  warnings.warn(msg, UserWarning)\n"
     ]
    },
    {
     "data": {
      "text/plain": [
       "<seaborn.axisgrid.FacetGrid at 0x1928ba74640>"
      ]
     },
     "execution_count": 13,
     "metadata": {},
     "output_type": "execute_result"
    },
    {
     "data": {
      "image/png": "[encoded data removed]",
      "text/plain": [
       "<Figure size 720x360 with 1 Axes>"
      ]
     },
     "metadata": {
      "needs_background": "light"
     },
     "output_type": "display_data"
    }
   ],
   "source": [
    "# Distribuzione del feature \"contr_occupation\"\n",
    "sns.factorplot(data=quotazioni_storiche, y = \"contr_occupation\", kind=\"count\", size = 5, aspect = 2)"
   ]
  },
  {
   "cell_type": "markdown",
   "metadata": {},
   "source": [
    "Dal grafico possiamo vedere che il maggior numero di polise assicurative è stato rilasciato alle persone che sono dipendenti (Impiegato/Quadro/Dirigente e Operaio)"
   ]
  },
  {
   "cell_type": "code",
   "execution_count": 14,
   "metadata": {},
   "outputs": [
    {
     "name": "stderr",
     "output_type": "stream",
     "text": [
      "C:\\Users\\cvveljanovski\\Anaconda3\\lib\\site-packages\\seaborn\\categorical.py:3704: UserWarning: The `factorplot` function has been renamed to `catplot`. The original name will be removed in a future release. Please update your code. Note that the default `kind` in `factorplot` (`'point'`) has changed `'strip'` in `catplot`.\n",
      "  warnings.warn(msg)\n",
      "C:\\Users\\cvveljanovski\\Anaconda3\\lib\\site-packages\\seaborn\\categorical.py:3710: UserWarning: The `size` parameter has been renamed to `height`; please update your code.\n",
      "  warnings.warn(msg, UserWarning)\n"
     ]
    },
    {
     "data": {
      "text/plain": [
       "<seaborn.axisgrid.FacetGrid at 0x1928baa2790>"
      ]
     },
     "execution_count": 14,
     "metadata": {},
     "output_type": "execute_result"
    },
    {
     "data": {
      "image/png": "[encoded data removed]",
      "text/plain": [
       "<Figure size 921.6x1152 with 1 Axes>"
      ]
     },
     "metadata": {
      "needs_background": "light"
     },
     "output_type": "display_data"
    }
   ],
   "source": [
    "# Distribuzione del feature \"contr_res_prov\"\n",
    "sns.factorplot(data=quotazioni_storiche, y = \"contr_res_prov\", kind=\"count\", size = 16, aspect = 0.8)"
   ]
  },
  {
   "cell_type": "markdown",
   "metadata": {},
   "source": [
    "Dal grafico possiamo vedere che il maggior numero di polise assicurative è stato rilasciato alle persone che hanno residenza nella provincia di Roma"
   ]
  },
  {
   "cell_type": "code",
   "execution_count": 15,
   "metadata": {},
   "outputs": [
    {
     "name": "stderr",
     "output_type": "stream",
     "text": [
      "C:\\Users\\cvveljanovski\\Anaconda3\\lib\\site-packages\\seaborn\\categorical.py:3704: UserWarning: The `factorplot` function has been renamed to `catplot`. The original name will be removed in a future release. Please update your code. Note that the default `kind` in `factorplot` (`'point'`) has changed `'strip'` in `catplot`.\n",
      "  warnings.warn(msg)\n",
      "C:\\Users\\cvveljanovski\\Anaconda3\\lib\\site-packages\\seaborn\\categorical.py:3710: UserWarning: The `size` parameter has been renamed to `height`; please update your code.\n",
      "  warnings.warn(msg, UserWarning)\n"
     ]
    },
    {
     "data": {
      "text/plain": [
       "<seaborn.axisgrid.FacetGrid at 0x1928c6c5eb0>"
      ]
     },
     "execution_count": 15,
     "metadata": {},
     "output_type": "execute_result"
    },
    {
     "data": {
      "image/png": "[encoded data removed]",
      "text/plain": [
       "<Figure size 720x360 with 1 Axes>"
      ]
     },
     "metadata": {
      "needs_background": "light"
     },
     "output_type": "display_data"
    }
   ],
   "source": [
    "# Distribuzione del feature \"contr_res_prov\"\n",
    "sns.factorplot(data=quotazioni_storiche, y = \"contr_res_region_name\", kind=\"count\", size = 5, aspect = 2)"
   ]
  },
  {
   "cell_type": "markdown",
   "metadata": {},
   "source": [
    "Dal grafico possiamo vedere che il maggior numero di polise assicurative è stato rilasciato alle persone che hanno Lombardia o Lazio come regione di residenza"
   ]
  },
  {
   "cell_type": "code",
   "execution_count": 16,
   "metadata": {},
   "outputs": [
    {
     "name": "stderr",
     "output_type": "stream",
     "text": [
      "C:\\Users\\cvveljanovski\\Anaconda3\\lib\\site-packages\\seaborn\\categorical.py:3704: UserWarning: The `factorplot` function has been renamed to `catplot`. The original name will be removed in a future release. Please update your code. Note that the default `kind` in `factorplot` (`'point'`) has changed `'strip'` in `catplot`.\n",
      "  warnings.warn(msg)\n",
      "C:\\Users\\cvveljanovski\\Anaconda3\\lib\\site-packages\\seaborn\\categorical.py:3710: UserWarning: The `size` parameter has been renamed to `height`; please update your code.\n",
      "  warnings.warn(msg, UserWarning)\n"
     ]
    },
    {
     "data": {
      "text/plain": [
       "<seaborn.axisgrid.FacetGrid at 0x1928c72fcd0>"
      ]
     },
     "execution_count": 16,
     "metadata": {},
     "output_type": "execute_result"
    },
    {
     "data": {
      "image/png": "[encoded data removed]",
      "text/plain": [
       "<Figure size 1080x1080 with 1 Axes>"
      ]
     },
     "metadata": {
      "needs_background": "light"
     },
     "output_type": "display_data"
    }
   ],
   "source": [
    "# Distribuzione del feature \"veh_brand_name\"\n",
    "sns.factorplot(data=quotazioni_storiche, y = \"veh_brand_name\", kind=\"count\", size = 15, aspect = 1)"
   ]
  },
  {
   "cell_type": "markdown",
   "metadata": {},
   "source": [
    "Dal grafico possiamo vedere che il maggior numero di polise assicurative è stato rilasciato alle persone che hanno machina con brand name: brand1"
   ]
  },
  {
   "cell_type": "code",
   "execution_count": 17,
   "metadata": {},
   "outputs": [
    {
     "name": "stderr",
     "output_type": "stream",
     "text": [
      "C:\\Users\\cvveljanovski\\Anaconda3\\lib\\site-packages\\seaborn\\categorical.py:3704: UserWarning: The `factorplot` function has been renamed to `catplot`. The original name will be removed in a future release. Please update your code. Note that the default `kind` in `factorplot` (`'point'`) has changed `'strip'` in `catplot`.\n",
      "  warnings.warn(msg)\n",
      "C:\\Users\\cvveljanovski\\Anaconda3\\lib\\site-packages\\seaborn\\categorical.py:3710: UserWarning: The `size` parameter has been renamed to `height`; please update your code.\n",
      "  warnings.warn(msg, UserWarning)\n"
     ]
    },
    {
     "data": {
      "text/plain": [
       "<seaborn.axisgrid.FacetGrid at 0x1928c710160>"
      ]
     },
     "execution_count": 17,
     "metadata": {},
     "output_type": "execute_result"
    },
    {
     "data": {
      "image/png": "[encoded data removed]",
      "text/plain": [
       "<Figure size 720x720 with 1 Axes>"
      ]
     },
     "metadata": {
      "needs_background": "light"
     },
     "output_type": "display_data"
    }
   ],
   "source": [
    "new_df=quotazioni_storiche.copy()\n",
    "new_df['veh_value']=np.floor(new_df['veh_value'])//1000 # we use 5 to divide the vaule by 5 and select the integer part of the division\n",
    "new_df['veh_value'].unique()\n",
    "sns.factorplot(y=\"veh_value\",kind=\"count\", data=new_df, size = 10, aspect = 1)"
   ]
  },
  {
   "cell_type": "markdown",
   "metadata": {},
   "source": [
    "Dal grafico possiamo vedere che il maggior numero di polise assicurative è stato rilasciato per le machine che hanno un vallore tra 0 euro e 2000 euro.\n",
    "Nel grafico ho creato dei bucket dove ogni bucket ha vallori di range 1000 euro, quindi per sapere il vallore approsimativo della machina si calcola cosi vallore = 1000*(bucket value)."
   ]
  },
  {
   "cell_type": "code",
   "execution_count": 18,
   "metadata": {},
   "outputs": [
    {
     "name": "stderr",
     "output_type": "stream",
     "text": [
      "C:\\Users\\cvveljanovski\\Anaconda3\\lib\\site-packages\\seaborn\\categorical.py:3704: UserWarning: The `factorplot` function has been renamed to `catplot`. The original name will be removed in a future release. Please update your code. Note that the default `kind` in `factorplot` (`'point'`) has changed `'strip'` in `catplot`.\n",
      "  warnings.warn(msg)\n",
      "C:\\Users\\cvveljanovski\\Anaconda3\\lib\\site-packages\\seaborn\\categorical.py:3710: UserWarning: The `size` parameter has been renamed to `height`; please update your code.\n",
      "  warnings.warn(msg, UserWarning)\n"
     ]
    },
    {
     "data": {
      "text/plain": [
       "<seaborn.axisgrid.FacetGrid at 0x1928bb7da90>"
      ]
     },
     "execution_count": 18,
     "metadata": {},
     "output_type": "execute_result"
    },
    {
     "data": {
      "image/png": "[encoded data removed]",
      "text/plain": [
       "<Figure size 720x360 with 1 Axes>"
      ]
     },
     "metadata": {
      "needs_background": "light"
     },
     "output_type": "display_data"
    }
   ],
   "source": [
    "# Distribuzione del feature \"veh_alimentazione\"\n",
    "sns.factorplot(data=quotazioni_storiche, y = \"veh_alimentazione\", kind=\"count\", size = 5, aspect = 2)               "
   ]
  },
  {
   "cell_type": "markdown",
   "metadata": {},
   "source": [
    "Dal grafico possiamo vedere che il maggior numero di polise assicurative è stato rilasciato per le machine con allimentazione Diesel e Benzina"
   ]
  },
  {
   "cell_type": "code",
   "execution_count": 19,
   "metadata": {},
   "outputs": [
    {
     "name": "stderr",
     "output_type": "stream",
     "text": [
      "C:\\Users\\cvveljanovski\\Anaconda3\\lib\\site-packages\\seaborn\\categorical.py:3704: UserWarning: The `factorplot` function has been renamed to `catplot`. The original name will be removed in a future release. Please update your code. Note that the default `kind` in `factorplot` (`'point'`) has changed `'strip'` in `catplot`.\n",
      "  warnings.warn(msg)\n",
      "C:\\Users\\cvveljanovski\\Anaconda3\\lib\\site-packages\\seaborn\\categorical.py:3710: UserWarning: The `size` parameter has been renamed to `height`; please update your code.\n",
      "  warnings.warn(msg, UserWarning)\n"
     ]
    },
    {
     "data": {
      "text/plain": [
       "<seaborn.axisgrid.FacetGrid at 0x1928b530970>"
      ]
     },
     "execution_count": 19,
     "metadata": {},
     "output_type": "execute_result"
    },
    {
     "data": {
      "image/png": "[encoded data removed]",
      "text/plain": [
       "<Figure size 720x360 with 1 Axes>"
      ]
     },
     "metadata": {
      "needs_background": "light"
     },
     "output_type": "display_data"
    }
   ],
   "source": [
    "# Distribuzione del feature \"veh_kw_group\"\n",
    "sns.factorplot(data=quotazioni_storiche, y = \"veh_kw_group\", kind=\"count\", size = 5, aspect = 2)               "
   ]
  },
  {
   "cell_type": "markdown",
   "metadata": {},
   "source": [
    "Dal grafico possiamo vedere che il maggior numero di polise assicurative è stato rilasciato per le machine con potenza di 60KW e molto di meno per le machine con pocco potenza come 30KW o per machine con tanta potenza come 110KW o piu."
   ]
  },
  {
   "cell_type": "code",
   "execution_count": 20,
   "metadata": {},
   "outputs": [
    {
     "name": "stderr",
     "output_type": "stream",
     "text": [
      "C:\\Users\\cvveljanovski\\Anaconda3\\lib\\site-packages\\seaborn\\categorical.py:3704: UserWarning: The `factorplot` function has been renamed to `catplot`. The original name will be removed in a future release. Please update your code. Note that the default `kind` in `factorplot` (`'point'`) has changed `'strip'` in `catplot`.\n",
      "  warnings.warn(msg)\n",
      "C:\\Users\\cvveljanovski\\Anaconda3\\lib\\site-packages\\seaborn\\categorical.py:3710: UserWarning: The `size` parameter has been renamed to `height`; please update your code.\n",
      "  warnings.warn(msg, UserWarning)\n"
     ]
    },
    {
     "data": {
      "text/plain": [
       "<seaborn.axisgrid.FacetGrid at 0x192a7750520>"
      ]
     },
     "execution_count": 20,
     "metadata": {},
     "output_type": "execute_result"
    },
    {
     "data": {
      "image/png": "[encoded data removed]",
      "text/plain": [
       "<Figure size 720x360 with 1 Axes>"
      ]
     },
     "metadata": {
      "needs_background": "light"
     },
     "output_type": "display_data"
    }
   ],
   "source": [
    "# Distribuzione del feature \"veh_mileage_cpt\"\n",
    "sns.factorplot(data=quotazioni_storiche, y = \"veh_mileage_cpt\", kind=\"count\", size = 5, aspect = 2)               "
   ]
  },
  {
   "cell_type": "markdown",
   "metadata": {},
   "source": [
    "Dal grafico possiamo vedere che il maggior numero di polise assicurative è stato rilasciato ai clienti che hanno traversato al massimo 10K kilometri durante l'ultimo anno"
   ]
  },
  {
   "cell_type": "code",
   "execution_count": 21,
   "metadata": {},
   "outputs": [
    {
     "name": "stderr",
     "output_type": "stream",
     "text": [
      "C:\\Users\\cvveljanovski\\Anaconda3\\lib\\site-packages\\seaborn\\categorical.py:3704: UserWarning: The `factorplot` function has been renamed to `catplot`. The original name will be removed in a future release. Please update your code. Note that the default `kind` in `factorplot` (`'point'`) has changed `'strip'` in `catplot`.\n",
      "  warnings.warn(msg)\n",
      "C:\\Users\\cvveljanovski\\Anaconda3\\lib\\site-packages\\seaborn\\categorical.py:3710: UserWarning: The `size` parameter has been renamed to `height`; please update your code.\n",
      "  warnings.warn(msg, UserWarning)\n"
     ]
    },
    {
     "data": {
      "text/plain": [
       "<seaborn.axisgrid.FacetGrid at 0x192858720a0>"
      ]
     },
     "execution_count": 21,
     "metadata": {},
     "output_type": "execute_result"
    },
    {
     "data": {
      "image/png": "[encoded data removed]",
      "text/plain": [
       "<Figure size 720x360 with 1 Axes>"
      ]
     },
     "metadata": {
      "needs_background": "light"
     },
     "output_type": "display_data"
    }
   ],
   "source": [
    "# Distribuzione del feature \"pol_classe_cu\"\n",
    "sns.factorplot(data=quotazioni_storiche, y = \"pol_classe_cu\", kind=\"count\", size = 5, aspect = 2)               "
   ]
  },
  {
   "cell_type": "markdown",
   "metadata": {},
   "source": [
    "Dal grafico possiamo vedere che il maggior numero di polise assicurative è stato rilasciato ai clienti che hanno una classe assicurativa 1(quella migliore) e classe 14 (quella iniziale per la prima machina)"
   ]
  },
  {
   "cell_type": "code",
   "execution_count": 22,
   "metadata": {},
   "outputs": [
    {
     "name": "stderr",
     "output_type": "stream",
     "text": [
      "C:\\Users\\cvveljanovski\\Anaconda3\\lib\\site-packages\\seaborn\\categorical.py:3704: UserWarning: The `factorplot` function has been renamed to `catplot`. The original name will be removed in a future release. Please update your code. Note that the default `kind` in `factorplot` (`'point'`) has changed `'strip'` in `catplot`.\n",
      "  warnings.warn(msg)\n",
      "C:\\Users\\cvveljanovski\\Anaconda3\\lib\\site-packages\\seaborn\\categorical.py:3710: UserWarning: The `size` parameter has been renamed to `height`; please update your code.\n",
      "  warnings.warn(msg, UserWarning)\n"
     ]
    },
    {
     "data": {
      "text/plain": [
       "<seaborn.axisgrid.FacetGrid at 0x192a8c28f70>"
      ]
     },
     "execution_count": 22,
     "metadata": {},
     "output_type": "execute_result"
    },
    {
     "data": {
      "image/png": "[encoded data removed]",
      "text/plain": [
       "<Figure size 720x360 with 1 Axes>"
      ]
     },
     "metadata": {
      "needs_background": "light"
     },
     "output_type": "display_data"
    }
   ],
   "source": [
    "# Distribuzione del feature \"atr_claims\"\n",
    "sns.factorplot(data=quotazioni_storiche, y = \"atr_claims\", kind=\"count\", size = 5, aspect = 2)               "
   ]
  },
  {
   "cell_type": "markdown",
   "metadata": {},
   "source": [
    "Dal grafico possiamo vedere che il maggior numero di polise assicurative è stato rilasciato ai clienti che non hanno fatto \"claim\" o hanno fatto al massimo 1 claim durante i ultimi 5 anni"
   ]
  },
  {
   "cell_type": "markdown",
   "metadata": {},
   "source": [
    "# 4. Data transformation sui tre dataframe"
   ]
  },
  {
   "cell_type": "markdown",
   "metadata": {},
   "source": [
    "## 4.1 dataframe \"storico_rischi\""
   ]
  },
  {
   "cell_type": "markdown",
   "metadata": {},
   "source": [
    "### a. Gestione vallori mancanti"
   ]
  },
  {
   "cell_type": "markdown",
   "metadata": {},
   "source": [
    "### Ci sono vari metodi di gestire i campi con \"nan\" o \"null\" vallori:\n",
    "#### 1. Elliminazioni delle rige con vallori mancanti\n",
    "#### 2. Assegnazione dei valori mancanti con: Moda, Mean o Mediana dello feature\n",
    "#### 3. Previsione dei valori mancanti dove il feature dipendente è il feature con i valori mancanti\n",
    "#### 4. Uttilizo Algoritmi che lavorano bene anche quando abbiamo valori mancanti nel dataset (ex. Decision Trees, Random Forest Regressor, Naive Bayes Regressor,  Adaboost)"
   ]
  },
  {
   "cell_type": "markdown",
   "metadata": {},
   "source": [
    "#### Per fare le cose semplice in questo caso uttilizero il metodo di imputation per i vallori mancanti sapendo che questo cambiera l'essito perche avremo un po di bias."
   ]
  },
  {
   "cell_type": "code",
   "execution_count": 23,
   "metadata": {},
   "outputs": [
    {
     "data": {
      "text/plain": [
       "data_quote                       0\n",
       "data_decorrenza_richiesta        0\n",
       "tipo_guida                       0\n",
       "insurance_type                   0\n",
       "contr_birth_date              6664\n",
       "contr_license_year            8104\n",
       "contr_marital_status             0\n",
       "contr_occupation                 0\n",
       "contr_res_prov               18316\n",
       "contr_res_region_name            0\n",
       "veh_registration_date            0\n",
       "veh_purchase_date                0\n",
       "veh_brand_name                   0\n",
       "veh_doors_number                 0\n",
       "veh_value                        0\n",
       "veh_alimentazione                0\n",
       "veh_consumption                 17\n",
       "veh_kw_group                     0\n",
       "veh_height                       0\n",
       "veh_length                       0\n",
       "veh_width                        0\n",
       "veh_mass                        17\n",
       "veh_mileage_cpt                  0\n",
       "pol_classe_cu                    0\n",
       "atr_claims                       0\n",
       "risk                             0\n",
       "dtype: int64"
      ]
     },
     "execution_count": 23,
     "metadata": {},
     "output_type": "execute_result"
    }
   ],
   "source": [
    "storico_rischi.isnull().sum()"
   ]
  },
  {
   "cell_type": "markdown",
   "metadata": {},
   "source": [
    "Abbiamo 5 feature che hanno valori mancanti: contr_birth_date, contr_license_year, contr_res_prov, veh_consumption, veh_mass, e per tutti uttilizero la mediana "
   ]
  },
  {
   "cell_type": "code",
   "execution_count": 24,
   "metadata": {},
   "outputs": [],
   "source": [
    "# Funzione per gestione valori mancanti con il metodo \"Moda\"(valore piu popolare nel feature)\n",
    "def fill_nan_values_with_mode(df, feature):\n",
    "    imputing = df[feature].mode()\n",
    "    list(imputing)\n",
    "    val = imputing[0]\n",
    "    df[feature].fillna(value = val, inplace = True)\n",
    "    return df"
   ]
  },
  {
   "cell_type": "code",
   "execution_count": 25,
   "metadata": {},
   "outputs": [
    {
     "data": {
      "text/html": [
       "<div>\n",
       "<style scoped>\n",
       "    .dataframe tbody tr th:only-of-type {\n",
       "        vertical-align: middle;\n",
       "    }\n",
       "\n",
       "    .dataframe tbody tr th {\n",
       "        vertical-align: top;\n",
       "    }\n",
       "\n",
       "    .dataframe thead th {\n",
       "        text-align: right;\n",
       "    }\n",
       "</style>\n",
       "<table border=\"1\" class=\"dataframe\">\n",
       "  <thead>\n",
       "    <tr style=\"text-align: right;\">\n",
       "      <th></th>\n",
       "      <th>data_quote</th>\n",
       "      <th>data_decorrenza_richiesta</th>\n",
       "      <th>tipo_guida</th>\n",
       "      <th>insurance_type</th>\n",
       "      <th>contr_birth_date</th>\n",
       "      <th>contr_license_year</th>\n",
       "      <th>contr_marital_status</th>\n",
       "      <th>contr_occupation</th>\n",
       "      <th>contr_res_prov</th>\n",
       "      <th>contr_res_region_name</th>\n",
       "      <th>...</th>\n",
       "      <th>veh_consumption</th>\n",
       "      <th>veh_kw_group</th>\n",
       "      <th>veh_height</th>\n",
       "      <th>veh_length</th>\n",
       "      <th>veh_width</th>\n",
       "      <th>veh_mass</th>\n",
       "      <th>veh_mileage_cpt</th>\n",
       "      <th>pol_classe_cu</th>\n",
       "      <th>atr_claims</th>\n",
       "      <th>risk</th>\n",
       "    </tr>\n",
       "  </thead>\n",
       "  <tbody>\n",
       "    <tr>\n",
       "      <th>0</th>\n",
       "      <td>2020-01-23</td>\n",
       "      <td>2020-02-07</td>\n",
       "      <td>expert</td>\n",
       "      <td>B</td>\n",
       "      <td>1955-03-01</td>\n",
       "      <td>1973.0</td>\n",
       "      <td>married_no_kids</td>\n",
       "      <td>Pensionato</td>\n",
       "      <td>SA</td>\n",
       "      <td>Campania</td>\n",
       "      <td>...</td>\n",
       "      <td>5.3</td>\n",
       "      <td>60</td>\n",
       "      <td>1490</td>\n",
       "      <td>4065</td>\n",
       "      <td>1687</td>\n",
       "      <td>1105.0</td>\n",
       "      <td>10</td>\n",
       "      <td>1</td>\n",
       "      <td>0</td>\n",
       "      <td>0.00</td>\n",
       "    </tr>\n",
       "    <tr>\n",
       "      <th>1</th>\n",
       "      <td>2020-02-18</td>\n",
       "      <td>2020-02-24</td>\n",
       "      <td>exclusive</td>\n",
       "      <td>N</td>\n",
       "      <td>1966-02-01</td>\n",
       "      <td>1984.0</td>\n",
       "      <td>married_with_kids</td>\n",
       "      <td>Impiegato / Quadro / Dirigente</td>\n",
       "      <td>AN</td>\n",
       "      <td>Marche</td>\n",
       "      <td>...</td>\n",
       "      <td>5.7</td>\n",
       "      <td>110</td>\n",
       "      <td>1635</td>\n",
       "      <td>4355</td>\n",
       "      <td>1900</td>\n",
       "      <td>1670.0</td>\n",
       "      <td>10</td>\n",
       "      <td>14</td>\n",
       "      <td>0</td>\n",
       "      <td>0.00</td>\n",
       "    </tr>\n",
       "    <tr>\n",
       "      <th>2</th>\n",
       "      <td>2020-01-07</td>\n",
       "      <td>2020-01-23</td>\n",
       "      <td>exclusive</td>\n",
       "      <td>B</td>\n",
       "      <td>1969-04-01</td>\n",
       "      <td>1987.0</td>\n",
       "      <td>single</td>\n",
       "      <td>Operaio</td>\n",
       "      <td>VR</td>\n",
       "      <td>Veneto</td>\n",
       "      <td>...</td>\n",
       "      <td>6.2</td>\n",
       "      <td>70</td>\n",
       "      <td>1624</td>\n",
       "      <td>4052</td>\n",
       "      <td>1694</td>\n",
       "      <td>1369.0</td>\n",
       "      <td>10</td>\n",
       "      <td>1</td>\n",
       "      <td>0</td>\n",
       "      <td>0.00</td>\n",
       "    </tr>\n",
       "    <tr>\n",
       "      <th>3</th>\n",
       "      <td>2020-02-24</td>\n",
       "      <td>2020-03-22</td>\n",
       "      <td>expert</td>\n",
       "      <td>B</td>\n",
       "      <td>1948-12-01</td>\n",
       "      <td>1968.0</td>\n",
       "      <td>married_no_kids</td>\n",
       "      <td>Pensionato</td>\n",
       "      <td>RM</td>\n",
       "      <td>Lazio</td>\n",
       "      <td>...</td>\n",
       "      <td>6.0</td>\n",
       "      <td>40</td>\n",
       "      <td>1420</td>\n",
       "      <td>3337</td>\n",
       "      <td>1508</td>\n",
       "      <td>810.0</td>\n",
       "      <td>10</td>\n",
       "      <td>1</td>\n",
       "      <td>0</td>\n",
       "      <td>0.00</td>\n",
       "    </tr>\n",
       "    <tr>\n",
       "      <th>4</th>\n",
       "      <td>2020-02-04</td>\n",
       "      <td>2020-02-16</td>\n",
       "      <td>expert</td>\n",
       "      <td>B</td>\n",
       "      <td>1953-06-01</td>\n",
       "      <td>1972.0</td>\n",
       "      <td>married_with_kids</td>\n",
       "      <td>Pensionato</td>\n",
       "      <td>UD</td>\n",
       "      <td>Friuli-Venezia Giulia</td>\n",
       "      <td>...</td>\n",
       "      <td>4.8</td>\n",
       "      <td>60</td>\n",
       "      <td>1467</td>\n",
       "      <td>4257</td>\n",
       "      <td>1732</td>\n",
       "      <td>1079.0</td>\n",
       "      <td>10</td>\n",
       "      <td>1</td>\n",
       "      <td>0</td>\n",
       "      <td>1056.34</td>\n",
       "    </tr>\n",
       "    <tr>\n",
       "      <th>...</th>\n",
       "      <td>...</td>\n",
       "      <td>...</td>\n",
       "      <td>...</td>\n",
       "      <td>...</td>\n",
       "      <td>...</td>\n",
       "      <td>...</td>\n",
       "      <td>...</td>\n",
       "      <td>...</td>\n",
       "      <td>...</td>\n",
       "      <td>...</td>\n",
       "      <td>...</td>\n",
       "      <td>...</td>\n",
       "      <td>...</td>\n",
       "      <td>...</td>\n",
       "      <td>...</td>\n",
       "      <td>...</td>\n",
       "      <td>...</td>\n",
       "      <td>...</td>\n",
       "      <td>...</td>\n",
       "      <td>...</td>\n",
       "      <td>...</td>\n",
       "    </tr>\n",
       "    <tr>\n",
       "      <th>828539</th>\n",
       "      <td>2020-11-19</td>\n",
       "      <td>2020-12-07</td>\n",
       "      <td>exclusive</td>\n",
       "      <td>B</td>\n",
       "      <td>1969-02-01</td>\n",
       "      <td>1987.0</td>\n",
       "      <td>married_no_kids</td>\n",
       "      <td>Operaio</td>\n",
       "      <td>VE</td>\n",
       "      <td>Veneto</td>\n",
       "      <td>...</td>\n",
       "      <td>4.1</td>\n",
       "      <td>70</td>\n",
       "      <td>1600</td>\n",
       "      <td>4248</td>\n",
       "      <td>1796</td>\n",
       "      <td>1395.0</td>\n",
       "      <td>20</td>\n",
       "      <td>1</td>\n",
       "      <td>0</td>\n",
       "      <td>0.00</td>\n",
       "    </tr>\n",
       "    <tr>\n",
       "      <th>828540</th>\n",
       "      <td>2020-06-12</td>\n",
       "      <td>2020-06-15</td>\n",
       "      <td>expert</td>\n",
       "      <td>B</td>\n",
       "      <td>1989-01-01</td>\n",
       "      <td>2011.0</td>\n",
       "      <td>married_with_kids</td>\n",
       "      <td>Operaio</td>\n",
       "      <td>SI</td>\n",
       "      <td>Toscana</td>\n",
       "      <td>...</td>\n",
       "      <td>4.5</td>\n",
       "      <td>60</td>\n",
       "      <td>1540</td>\n",
       "      <td>3715</td>\n",
       "      <td>1660</td>\n",
       "      <td>1115.0</td>\n",
       "      <td>10</td>\n",
       "      <td>10</td>\n",
       "      <td>0</td>\n",
       "      <td>0.00</td>\n",
       "    </tr>\n",
       "    <tr>\n",
       "      <th>828541</th>\n",
       "      <td>2020-12-03</td>\n",
       "      <td>2020-12-04</td>\n",
       "      <td>expert</td>\n",
       "      <td>B</td>\n",
       "      <td>1972-06-01</td>\n",
       "      <td>1990.0</td>\n",
       "      <td>married_no_kids</td>\n",
       "      <td>Impiegato / Quadro / Dirigente</td>\n",
       "      <td>RM</td>\n",
       "      <td>Lazio</td>\n",
       "      <td>...</td>\n",
       "      <td>3.6</td>\n",
       "      <td>80</td>\n",
       "      <td>1490</td>\n",
       "      <td>4157</td>\n",
       "      <td>1729</td>\n",
       "      <td>1150.0</td>\n",
       "      <td>20</td>\n",
       "      <td>1</td>\n",
       "      <td>0</td>\n",
       "      <td>0.00</td>\n",
       "    </tr>\n",
       "    <tr>\n",
       "      <th>828542</th>\n",
       "      <td>2020-12-27</td>\n",
       "      <td>2021-01-30</td>\n",
       "      <td>expert</td>\n",
       "      <td>B</td>\n",
       "      <td>1964-03-01</td>\n",
       "      <td>1982.0</td>\n",
       "      <td>married_no_kids</td>\n",
       "      <td>Forze Armate / Guardia / Vigile</td>\n",
       "      <td>LT</td>\n",
       "      <td>Lazio</td>\n",
       "      <td>...</td>\n",
       "      <td>4.2</td>\n",
       "      <td>60</td>\n",
       "      <td>1565</td>\n",
       "      <td>2695</td>\n",
       "      <td>1559</td>\n",
       "      <td>825.0</td>\n",
       "      <td>20</td>\n",
       "      <td>1</td>\n",
       "      <td>0</td>\n",
       "      <td>0.00</td>\n",
       "    </tr>\n",
       "    <tr>\n",
       "      <th>828543</th>\n",
       "      <td>2020-11-18</td>\n",
       "      <td>2020-11-25</td>\n",
       "      <td>exclusive</td>\n",
       "      <td>N</td>\n",
       "      <td>1986-11-01</td>\n",
       "      <td>2004.0</td>\n",
       "      <td>single</td>\n",
       "      <td>Impiegato / Quadro / Dirigente</td>\n",
       "      <td>TN</td>\n",
       "      <td>Trentino-Alto Adige</td>\n",
       "      <td>...</td>\n",
       "      <td>4.9</td>\n",
       "      <td>110</td>\n",
       "      <td>1620</td>\n",
       "      <td>4273</td>\n",
       "      <td>1796</td>\n",
       "      <td>1505.0</td>\n",
       "      <td>10</td>\n",
       "      <td>14</td>\n",
       "      <td>0</td>\n",
       "      <td>0.00</td>\n",
       "    </tr>\n",
       "  </tbody>\n",
       "</table>\n",
       "<p>828544 rows × 26 columns</p>\n",
       "</div>"
      ],
      "text/plain": [
       "        data_quote data_decorrenza_richiesta tipo_guida insurance_type  \\\n",
       "0       2020-01-23                2020-02-07     expert              B   \n",
       "1       2020-02-18                2020-02-24  exclusive              N   \n",
       "2       2020-01-07                2020-01-23  exclusive              B   \n",
       "3       2020-02-24                2020-03-22     expert              B   \n",
       "4       2020-02-04                2020-02-16     expert              B   \n",
       "...            ...                       ...        ...            ...   \n",
       "828539  2020-11-19                2020-12-07  exclusive              B   \n",
       "828540  2020-06-12                2020-06-15     expert              B   \n",
       "828541  2020-12-03                2020-12-04     expert              B   \n",
       "828542  2020-12-27                2021-01-30     expert              B   \n",
       "828543  2020-11-18                2020-11-25  exclusive              N   \n",
       "\n",
       "       contr_birth_date  contr_license_year contr_marital_status  \\\n",
       "0            1955-03-01              1973.0      married_no_kids   \n",
       "1            1966-02-01              1984.0    married_with_kids   \n",
       "2            1969-04-01              1987.0               single   \n",
       "3            1948-12-01              1968.0      married_no_kids   \n",
       "4            1953-06-01              1972.0    married_with_kids   \n",
       "...                 ...                 ...                  ...   \n",
       "828539       1969-02-01              1987.0      married_no_kids   \n",
       "828540       1989-01-01              2011.0    married_with_kids   \n",
       "828541       1972-06-01              1990.0      married_no_kids   \n",
       "828542       1964-03-01              1982.0      married_no_kids   \n",
       "828543       1986-11-01              2004.0               single   \n",
       "\n",
       "                       contr_occupation contr_res_prov  contr_res_region_name  \\\n",
       "0                            Pensionato             SA               Campania   \n",
       "1        Impiegato / Quadro / Dirigente             AN                 Marche   \n",
       "2                               Operaio             VR                 Veneto   \n",
       "3                            Pensionato             RM                  Lazio   \n",
       "4                            Pensionato             UD  Friuli-Venezia Giulia   \n",
       "...                                 ...            ...                    ...   \n",
       "828539                          Operaio             VE                 Veneto   \n",
       "828540                          Operaio             SI                Toscana   \n",
       "828541   Impiegato / Quadro / Dirigente             RM                  Lazio   \n",
       "828542  Forze Armate / Guardia / Vigile             LT                  Lazio   \n",
       "828543   Impiegato / Quadro / Dirigente             TN    Trentino-Alto Adige   \n",
       "\n",
       "        ... veh_consumption veh_kw_group veh_height veh_length  veh_width  \\\n",
       "0       ...             5.3           60       1490       4065       1687   \n",
       "1       ...             5.7          110       1635       4355       1900   \n",
       "2       ...             6.2           70       1624       4052       1694   \n",
       "3       ...             6.0           40       1420       3337       1508   \n",
       "4       ...             4.8           60       1467       4257       1732   \n",
       "...     ...             ...          ...        ...        ...        ...   \n",
       "828539  ...             4.1           70       1600       4248       1796   \n",
       "828540  ...             4.5           60       1540       3715       1660   \n",
       "828541  ...             3.6           80       1490       4157       1729   \n",
       "828542  ...             4.2           60       1565       2695       1559   \n",
       "828543  ...             4.9          110       1620       4273       1796   \n",
       "\n",
       "       veh_mass  veh_mileage_cpt  pol_classe_cu  atr_claims     risk  \n",
       "0        1105.0               10              1           0     0.00  \n",
       "1        1670.0               10             14           0     0.00  \n",
       "2        1369.0               10              1           0     0.00  \n",
       "3         810.0               10              1           0     0.00  \n",
       "4        1079.0               10              1           0  1056.34  \n",
       "...         ...              ...            ...         ...      ...  \n",
       "828539   1395.0               20              1           0     0.00  \n",
       "828540   1115.0               10             10           0     0.00  \n",
       "828541   1150.0               20              1           0     0.00  \n",
       "828542    825.0               20              1           0     0.00  \n",
       "828543   1505.0               10             14           0     0.00  \n",
       "\n",
       "[828544 rows x 26 columns]"
      ]
     },
     "execution_count": 25,
     "metadata": {},
     "output_type": "execute_result"
    }
   ],
   "source": [
    "fill_nan_values_with_mode(storico_rischi, \"contr_birth_date\")\n",
    "fill_nan_values_with_mode(storico_rischi, \"contr_license_year\")\n",
    "fill_nan_values_with_mode(storico_rischi, \"contr_res_prov\")\n",
    "fill_nan_values_with_mode(storico_rischi, \"veh_consumption\")\n",
    "fill_nan_values_with_mode(storico_rischi, \"veh_mass\")"
   ]
  },
  {
   "cell_type": "code",
   "execution_count": 26,
   "metadata": {},
   "outputs": [
    {
     "data": {
      "text/plain": [
       "data_quote                   0\n",
       "data_decorrenza_richiesta    0\n",
       "tipo_guida                   0\n",
       "insurance_type               0\n",
       "contr_birth_date             0\n",
       "contr_license_year           0\n",
       "contr_marital_status         0\n",
       "contr_occupation             0\n",
       "contr_res_prov               0\n",
       "contr_res_region_name        0\n",
       "veh_registration_date        0\n",
       "veh_purchase_date            0\n",
       "veh_brand_name               0\n",
       "veh_doors_number             0\n",
       "veh_value                    0\n",
       "veh_alimentazione            0\n",
       "veh_consumption              0\n",
       "veh_kw_group                 0\n",
       "veh_height                   0\n",
       "veh_length                   0\n",
       "veh_width                    0\n",
       "veh_mass                     0\n",
       "veh_mileage_cpt              0\n",
       "pol_classe_cu                0\n",
       "atr_claims                   0\n",
       "risk                         0\n",
       "dtype: int64"
      ]
     },
     "execution_count": 26,
     "metadata": {},
     "output_type": "execute_result"
    }
   ],
   "source": [
    "storico_rischi.isnull().sum()"
   ]
  },
  {
   "cell_type": "markdown",
   "metadata": {},
   "source": [
    "Non ci sono piu feature con campi mancanti"
   ]
  },
  {
   "cell_type": "markdown",
   "metadata": {},
   "source": [
    "### b. Gestione feature categorici"
   ]
  },
  {
   "cell_type": "markdown",
   "metadata": {},
   "source": [
    "Per essere in grado di uttlizare i nostri feature dobbiamo transformare tutti i valori testuali come numerichi, e per quello mottivo dobbiamo esseguire qualche encoding (one-hot encoding, label encoding, ecc)"
   ]
  },
  {
   "cell_type": "markdown",
   "metadata": {},
   "source": [
    "Per evitare che il nostro dataset diventa molto largo uttilizero label encoding sapendo che puo creare un bias durante le nostre predizioni, ma per evitare il bias bisogna giocare un po e fare le prove per capire quale metodo è piu coretto."
   ]
  },
  {
   "cell_type": "code",
   "execution_count": 27,
   "metadata": {},
   "outputs": [],
   "source": [
    "# Selezionare i feature che si devono transoformare con valori string su valori numerici\n",
    "featureToEncode = storico_rischi[[\"tipo_guida\", \"insurance_type\", \"contr_marital_status\", \"contr_occupation\", \"contr_res_prov\", \"contr_res_region_name\", \"veh_brand_name\", \"veh_alimentazione\"]]\n",
    "# Selezionare i feature che non si devono transofrmare e sono pronti di uttilizare\n",
    "featureBuoni = storico_rischi.drop([\"tipo_guida\", \"insurance_type\", \"contr_marital_status\", \"contr_occupation\", \"contr_res_prov\", \"contr_res_region_name\", \"veh_brand_name\", \"veh_alimentazione\"], axis = 1)"
   ]
  },
  {
   "cell_type": "code",
   "execution_count": 28,
   "metadata": {},
   "outputs": [
    {
     "name": "stderr",
     "output_type": "stream",
     "text": [
      "<ipython-input-28-82c85d78d6c5>:4: SettingWithCopyWarning: \n",
      "A value is trying to be set on a copy of a slice from a DataFrame.\n",
      "Try using .loc[row_indexer,col_indexer] = value instead\n",
      "\n",
      "See the caveats in the documentation: https://pandas.pydata.org/pandas-docs/stable/user_guide/indexing.html#returning-a-view-versus-a-copy\n",
      "  featureToEncode[f] = label_encode.fit_transform(featureToEncode[f].values)\n"
     ]
    }
   ],
   "source": [
    "# Applica il label encoder sui feature per encodare\n",
    "fature_name = featureToEncode.columns\n",
    "for f in fature_name:\n",
    "    featureToEncode[f] = label_encode.fit_transform(featureToEncode[f].values)"
   ]
  },
  {
   "cell_type": "markdown",
   "metadata": {},
   "source": [
    "Dopo questo ultimo passo dobbiamo solo collegare i due dataframe \"featureToEncode\" e \"featureBuoni\" in un dataframe \"storico_rischi_df\" dove tutti i feature sono pronti a uttilizare."
   ]
  },
  {
   "cell_type": "code",
   "execution_count": 29,
   "metadata": {},
   "outputs": [],
   "source": [
    "# Concatenare i due dataframe con feature encodati e feature che non hanno bisogno di transformare\n",
    "storico_rischi_df = pd.concat([featureBuoni, featureToEncode],axis=1)"
   ]
  },
  {
   "cell_type": "markdown",
   "metadata": {},
   "source": [
    "### c. Gestione i feature \"date\""
   ]
  },
  {
   "cell_type": "code",
   "execution_count": 30,
   "metadata": {},
   "outputs": [],
   "source": [
    "# Funzione per separare i campi che hanno valori \"date\" in tre diversi feature per giorno, mese e anno\n",
    "def split_date(df):\n",
    "    df.data_quote = pd.to_datetime(df.data_quote)\n",
    "    df['day_data_quote'] = df.data_quote.dt.day\n",
    "    df['month_data_quote'] = df.data_quote.dt.month\n",
    "    df['year_data_quote'] = df.data_quote.dt.year\n",
    "    df.drop([\"data_quote\"],inplace=True,axis=1)\n",
    "    \n",
    "    df.data_decorrenza_richiesta = pd.to_datetime(df.data_decorrenza_richiesta)\n",
    "    df['day_data_decorrenza_richiesta'] = df.data_decorrenza_richiesta.dt.day\n",
    "    df['month_data_decorrenza_richiesta'] = df.data_decorrenza_richiesta.dt.month\n",
    "    df['year_data_decorrenza_richiesta'] = df.data_decorrenza_richiesta.dt.year\n",
    "    df.drop([\"data_decorrenza_richiesta\"],inplace=True,axis=1)\n",
    "    \n",
    "    df.contr_birth_date = pd.to_datetime(df.contr_birth_date)\n",
    "    df['day_contr_birth_date'] = df.contr_birth_date.dt.day\n",
    "    df['month_contr_birth_date'] = df.contr_birth_date.dt.month\n",
    "    df['year_contr_birth_date'] = df.contr_birth_date.dt.year\n",
    "    df.drop([\"contr_birth_date\"],inplace=True,axis=1)\n",
    "    \n",
    "    df.veh_registration_date = pd.to_datetime(df.veh_registration_date)\n",
    "    df['day_veh_registration_date'] = df.veh_registration_date.dt.day\n",
    "    df['month_veh_registration_date'] = df.veh_registration_date.dt.month\n",
    "    df['year_veh_registration_date'] = df.veh_registration_date.dt.year\n",
    "    df.drop([\"veh_registration_date\"],inplace=True,axis=1)\n",
    "    \n",
    "    df.veh_purchase_date = pd.to_datetime(df.veh_purchase_date)\n",
    "    df['day_veh_purchase_date'] = df.veh_purchase_date.dt.day\n",
    "    df['month_veh_purchase_date'] = df.veh_purchase_date.dt.month\n",
    "    df['year_veh_purchase_date'] = df.veh_purchase_date.dt.year\n",
    "    df.drop([\"veh_purchase_date\"],inplace=True,axis=1)"
   ]
  },
  {
   "cell_type": "code",
   "execution_count": 31,
   "metadata": {},
   "outputs": [],
   "source": [
    "# Applicare la funzione di splittare i feature \"date\"\n",
    "split_date(storico_rischi_df)"
   ]
  },
  {
   "cell_type": "markdown",
   "metadata": {},
   "source": [
    "### d. Gestione i alcuni feature speciali"
   ]
  },
  {
   "cell_type": "code",
   "execution_count": 32,
   "metadata": {},
   "outputs": [],
   "source": [
    "# Funzione per transformare il feature contr_licence_year con data type integer\n",
    "def contr_licence_year_new_feature(df):\n",
    "    contr_license_year_new = df['contr_license_year'].astype(int)\n",
    "    contr_license_year_new = pd.DataFrame(contr_license_year_new)\n",
    "    df.drop([\"contr_license_year\"],inplace=True,axis=1)\n",
    "    df = pd.concat([df, contr_license_year_new],axis=1)\n",
    "    return df"
   ]
  },
  {
   "cell_type": "code",
   "execution_count": 33,
   "metadata": {},
   "outputs": [],
   "source": [
    "# Applicare la funzione al feature  contr_licence_year\n",
    "storico_rischi_df = contr_licence_year_new_feature(storico_rischi_df)"
   ]
  },
  {
   "cell_type": "code",
   "execution_count": 34,
   "metadata": {},
   "outputs": [],
   "source": [
    "# Funzione per gestire due feature che hanno vallori non integer\n",
    "def specific_feature_cleanup(df):  \n",
    "    df.veh_doors_number[df.veh_doors_number == 'unknown'] = 0 \n",
    "    df.veh_doors_number[df.veh_doors_number == '0'] = 0 \n",
    "    df.veh_doors_number[df.veh_doors_number == '2'] = 2\n",
    "    df.veh_doors_number[df.veh_doors_number == '3'] = 3\n",
    "    df.veh_doors_number[df.veh_doors_number == '4'] = 4\n",
    "    df.veh_doors_number[df.veh_doors_number == '5'] = 5\n",
    "    df.veh_mileage_cpt[df.veh_mileage_cpt == '>30'] = 31"
   ]
  },
  {
   "cell_type": "code",
   "execution_count": 35,
   "metadata": {},
   "outputs": [
    {
     "name": "stderr",
     "output_type": "stream",
     "text": [
      "<ipython-input-34-85dde85de506>:3: SettingWithCopyWarning: \n",
      "A value is trying to be set on a copy of a slice from a DataFrame\n",
      "\n",
      "See the caveats in the documentation: https://pandas.pydata.org/pandas-docs/stable/user_guide/indexing.html#returning-a-view-versus-a-copy\n",
      "  df.veh_doors_number[df.veh_doors_number == 'unknown'] = 0\n",
      "<ipython-input-34-85dde85de506>:4: SettingWithCopyWarning: \n",
      "A value is trying to be set on a copy of a slice from a DataFrame\n",
      "\n",
      "See the caveats in the documentation: https://pandas.pydata.org/pandas-docs/stable/user_guide/indexing.html#returning-a-view-versus-a-copy\n",
      "  df.veh_doors_number[df.veh_doors_number == '0'] = 0\n",
      "<ipython-input-34-85dde85de506>:5: SettingWithCopyWarning: \n",
      "A value is trying to be set on a copy of a slice from a DataFrame\n",
      "\n",
      "See the caveats in the documentation: https://pandas.pydata.org/pandas-docs/stable/user_guide/indexing.html#returning-a-view-versus-a-copy\n",
      "  df.veh_doors_number[df.veh_doors_number == '2'] = 2\n",
      "<ipython-input-34-85dde85de506>:6: SettingWithCopyWarning: \n",
      "A value is trying to be set on a copy of a slice from a DataFrame\n",
      "\n",
      "See the caveats in the documentation: https://pandas.pydata.org/pandas-docs/stable/user_guide/indexing.html#returning-a-view-versus-a-copy\n",
      "  df.veh_doors_number[df.veh_doors_number == '3'] = 3\n",
      "<ipython-input-34-85dde85de506>:7: SettingWithCopyWarning: \n",
      "A value is trying to be set on a copy of a slice from a DataFrame\n",
      "\n",
      "See the caveats in the documentation: https://pandas.pydata.org/pandas-docs/stable/user_guide/indexing.html#returning-a-view-versus-a-copy\n",
      "  df.veh_doors_number[df.veh_doors_number == '4'] = 4\n",
      "<ipython-input-34-85dde85de506>:8: SettingWithCopyWarning: \n",
      "A value is trying to be set on a copy of a slice from a DataFrame\n",
      "\n",
      "See the caveats in the documentation: https://pandas.pydata.org/pandas-docs/stable/user_guide/indexing.html#returning-a-view-versus-a-copy\n",
      "  df.veh_doors_number[df.veh_doors_number == '5'] = 5\n",
      "<ipython-input-34-85dde85de506>:9: SettingWithCopyWarning: \n",
      "A value is trying to be set on a copy of a slice from a DataFrame\n",
      "\n",
      "See the caveats in the documentation: https://pandas.pydata.org/pandas-docs/stable/user_guide/indexing.html#returning-a-view-versus-a-copy\n",
      "  df.veh_mileage_cpt[df.veh_mileage_cpt == '>30'] = 31\n"
     ]
    }
   ],
   "source": [
    "# Applicare la funzione ai feature specifici\n",
    "specific_feature_cleanup(storico_rischi_df)"
   ]
  },
  {
   "cell_type": "markdown",
   "metadata": {},
   "source": [
    "## 4.2 dataframe \"quotazioni_storiche\""
   ]
  },
  {
   "cell_type": "markdown",
   "metadata": {},
   "source": [
    "le stesse operazioni che ho fatto sul dataframe \"storico_rischi\" devo fare anche per i  dataframe \"quotazioni_storiche\" e \"quotazioni\" per avere i due dataframe pronti quando faro le predizioni."
   ]
  },
  {
   "cell_type": "markdown",
   "metadata": {},
   "source": [
    "### a. Gestione vallori mancanti"
   ]
  },
  {
   "cell_type": "code",
   "execution_count": 36,
   "metadata": {},
   "outputs": [
    {
     "data": {
      "text/plain": [
       "data_quote                      0\n",
       "data_decorrenza_richiesta       0\n",
       "tipo_guida                      0\n",
       "insurance_type                  0\n",
       "contr_birth_date             2448\n",
       "contr_license_year           2955\n",
       "contr_marital_status            0\n",
       "contr_occupation                0\n",
       "contr_res_prov               6889\n",
       "contr_res_region_name           0\n",
       "veh_registration_date           0\n",
       "veh_purchase_date               0\n",
       "veh_brand_name                  0\n",
       "veh_doors_number                0\n",
       "veh_value                       0\n",
       "veh_alimentazione               0\n",
       "veh_consumption                 5\n",
       "veh_kw_group                    0\n",
       "veh_height                      0\n",
       "veh_length                      0\n",
       "veh_width                       0\n",
       "veh_mass                        5\n",
       "veh_mileage_cpt                 0\n",
       "pol_classe_cu                   0\n",
       "atr_claims                      0\n",
       "best_price                      0\n",
       "dtype: int64"
      ]
     },
     "execution_count": 36,
     "metadata": {},
     "output_type": "execute_result"
    }
   ],
   "source": [
    "quotazioni_storiche.isnull().sum()"
   ]
  },
  {
   "cell_type": "markdown",
   "metadata": {},
   "source": [
    "Anche qui abbiamo 5 feature che hanno valori mancanti: contr_birth_date, contr_license_year, contr_res_prov, veh_consumption, veh_mass, e per tutti uttilizero la mediana "
   ]
  },
  {
   "cell_type": "code",
   "execution_count": 37,
   "metadata": {},
   "outputs": [
    {
     "data": {
      "text/html": [
       "<div>\n",
       "<style scoped>\n",
       "    .dataframe tbody tr th:only-of-type {\n",
       "        vertical-align: middle;\n",
       "    }\n",
       "\n",
       "    .dataframe tbody tr th {\n",
       "        vertical-align: top;\n",
       "    }\n",
       "\n",
       "    .dataframe thead th {\n",
       "        text-align: right;\n",
       "    }\n",
       "</style>\n",
       "<table border=\"1\" class=\"dataframe\">\n",
       "  <thead>\n",
       "    <tr style=\"text-align: right;\">\n",
       "      <th></th>\n",
       "      <th>data_quote</th>\n",
       "      <th>data_decorrenza_richiesta</th>\n",
       "      <th>tipo_guida</th>\n",
       "      <th>insurance_type</th>\n",
       "      <th>contr_birth_date</th>\n",
       "      <th>contr_license_year</th>\n",
       "      <th>contr_marital_status</th>\n",
       "      <th>contr_occupation</th>\n",
       "      <th>contr_res_prov</th>\n",
       "      <th>contr_res_region_name</th>\n",
       "      <th>...</th>\n",
       "      <th>veh_consumption</th>\n",
       "      <th>veh_kw_group</th>\n",
       "      <th>veh_height</th>\n",
       "      <th>veh_length</th>\n",
       "      <th>veh_width</th>\n",
       "      <th>veh_mass</th>\n",
       "      <th>veh_mileage_cpt</th>\n",
       "      <th>pol_classe_cu</th>\n",
       "      <th>atr_claims</th>\n",
       "      <th>best_price</th>\n",
       "    </tr>\n",
       "  </thead>\n",
       "  <tbody>\n",
       "    <tr>\n",
       "      <th>0</th>\n",
       "      <td>2020-03-04</td>\n",
       "      <td>2020-03-15</td>\n",
       "      <td>expert</td>\n",
       "      <td>B</td>\n",
       "      <td>1970-01-01</td>\n",
       "      <td>1988.0</td>\n",
       "      <td>married_with_kids</td>\n",
       "      <td>Impiegato / Quadro / Dirigente</td>\n",
       "      <td>MI</td>\n",
       "      <td>Lombardia</td>\n",
       "      <td>...</td>\n",
       "      <td>6.7</td>\n",
       "      <td>70</td>\n",
       "      <td>1498</td>\n",
       "      <td>4336</td>\n",
       "      <td>1792</td>\n",
       "      <td>1280.0</td>\n",
       "      <td>10</td>\n",
       "      <td>1</td>\n",
       "      <td>0</td>\n",
       "      <td>455.46</td>\n",
       "    </tr>\n",
       "    <tr>\n",
       "      <th>1</th>\n",
       "      <td>2020-02-20</td>\n",
       "      <td>2020-03-16</td>\n",
       "      <td>expert</td>\n",
       "      <td>B</td>\n",
       "      <td>1975-01-01</td>\n",
       "      <td>1993.0</td>\n",
       "      <td>married_with_kids</td>\n",
       "      <td>Operaio</td>\n",
       "      <td>BO</td>\n",
       "      <td>Emilia-Romagna</td>\n",
       "      <td>...</td>\n",
       "      <td>5.6</td>\n",
       "      <td>90</td>\n",
       "      <td>1635</td>\n",
       "      <td>4440</td>\n",
       "      <td>1855</td>\n",
       "      <td>1490.0</td>\n",
       "      <td>10</td>\n",
       "      <td>1</td>\n",
       "      <td>0</td>\n",
       "      <td>523.36</td>\n",
       "    </tr>\n",
       "    <tr>\n",
       "      <th>2</th>\n",
       "      <td>2020-02-10</td>\n",
       "      <td>2020-02-21</td>\n",
       "      <td>expert</td>\n",
       "      <td>B</td>\n",
       "      <td>1973-01-01</td>\n",
       "      <td>1991.0</td>\n",
       "      <td>single</td>\n",
       "      <td>Impiegato / Quadro / Dirigente</td>\n",
       "      <td>UD</td>\n",
       "      <td>Friuli-Venezia Giulia</td>\n",
       "      <td>...</td>\n",
       "      <td>5.1</td>\n",
       "      <td>90</td>\n",
       "      <td>1573</td>\n",
       "      <td>4234</td>\n",
       "      <td>1819</td>\n",
       "      <td>1270.0</td>\n",
       "      <td>10</td>\n",
       "      <td>1</td>\n",
       "      <td>0</td>\n",
       "      <td>516.91</td>\n",
       "    </tr>\n",
       "    <tr>\n",
       "      <th>3</th>\n",
       "      <td>2020-01-04</td>\n",
       "      <td>2020-02-07</td>\n",
       "      <td>expert</td>\n",
       "      <td>B</td>\n",
       "      <td>1955-03-01</td>\n",
       "      <td>1974.0</td>\n",
       "      <td>married_with_kids</td>\n",
       "      <td>Impiegato / Quadro / Dirigente</td>\n",
       "      <td>PD</td>\n",
       "      <td>Veneto</td>\n",
       "      <td>...</td>\n",
       "      <td>6.5</td>\n",
       "      <td>120</td>\n",
       "      <td>1488</td>\n",
       "      <td>3657</td>\n",
       "      <td>1627</td>\n",
       "      <td>1110.0</td>\n",
       "      <td>10</td>\n",
       "      <td>1</td>\n",
       "      <td>0</td>\n",
       "      <td>446.29</td>\n",
       "    </tr>\n",
       "    <tr>\n",
       "      <th>4</th>\n",
       "      <td>2020-02-06</td>\n",
       "      <td>2020-03-12</td>\n",
       "      <td>expert</td>\n",
       "      <td>B</td>\n",
       "      <td>1983-12-01</td>\n",
       "      <td>2001.0</td>\n",
       "      <td>married_no_kids</td>\n",
       "      <td>Operaio</td>\n",
       "      <td>RM</td>\n",
       "      <td>Lazio</td>\n",
       "      <td>...</td>\n",
       "      <td>5.2</td>\n",
       "      <td>110</td>\n",
       "      <td>1590</td>\n",
       "      <td>4385</td>\n",
       "      <td>1831</td>\n",
       "      <td>1520.0</td>\n",
       "      <td>10</td>\n",
       "      <td>6</td>\n",
       "      <td>0</td>\n",
       "      <td>783.90</td>\n",
       "    </tr>\n",
       "    <tr>\n",
       "      <th>...</th>\n",
       "      <td>...</td>\n",
       "      <td>...</td>\n",
       "      <td>...</td>\n",
       "      <td>...</td>\n",
       "      <td>...</td>\n",
       "      <td>...</td>\n",
       "      <td>...</td>\n",
       "      <td>...</td>\n",
       "      <td>...</td>\n",
       "      <td>...</td>\n",
       "      <td>...</td>\n",
       "      <td>...</td>\n",
       "      <td>...</td>\n",
       "      <td>...</td>\n",
       "      <td>...</td>\n",
       "      <td>...</td>\n",
       "      <td>...</td>\n",
       "      <td>...</td>\n",
       "      <td>...</td>\n",
       "      <td>...</td>\n",
       "      <td>...</td>\n",
       "    </tr>\n",
       "    <tr>\n",
       "      <th>307123</th>\n",
       "      <td>2020-12-23</td>\n",
       "      <td>2021-01-05</td>\n",
       "      <td>expert</td>\n",
       "      <td>N</td>\n",
       "      <td>1983-07-01</td>\n",
       "      <td>2002.0</td>\n",
       "      <td>single</td>\n",
       "      <td>Impiegato / Quadro / Dirigente</td>\n",
       "      <td>RN</td>\n",
       "      <td>Emilia-Romagna</td>\n",
       "      <td>...</td>\n",
       "      <td>4.9</td>\n",
       "      <td>70</td>\n",
       "      <td>1584</td>\n",
       "      <td>4108</td>\n",
       "      <td>1760</td>\n",
       "      <td>1245.0</td>\n",
       "      <td>10</td>\n",
       "      <td>14</td>\n",
       "      <td>0</td>\n",
       "      <td>974.24</td>\n",
       "    </tr>\n",
       "    <tr>\n",
       "      <th>307124</th>\n",
       "      <td>2020-06-09</td>\n",
       "      <td>2020-06-10</td>\n",
       "      <td>expert</td>\n",
       "      <td>B</td>\n",
       "      <td>1979-05-01</td>\n",
       "      <td>2007.0</td>\n",
       "      <td>married_with_kids</td>\n",
       "      <td>Casalinga</td>\n",
       "      <td>MI</td>\n",
       "      <td>Lombardia</td>\n",
       "      <td>...</td>\n",
       "      <td>7.8</td>\n",
       "      <td>110</td>\n",
       "      <td>1805</td>\n",
       "      <td>4925</td>\n",
       "      <td>1900</td>\n",
       "      <td>2175.0</td>\n",
       "      <td>10</td>\n",
       "      <td>17</td>\n",
       "      <td>0</td>\n",
       "      <td>875.30</td>\n",
       "    </tr>\n",
       "    <tr>\n",
       "      <th>307125</th>\n",
       "      <td>2020-06-12</td>\n",
       "      <td>2020-06-12</td>\n",
       "      <td>expert</td>\n",
       "      <td>B</td>\n",
       "      <td>1977-07-01</td>\n",
       "      <td>1996.0</td>\n",
       "      <td>married_with_kids</td>\n",
       "      <td>Impiegato / Quadro / Dirigente</td>\n",
       "      <td>LO</td>\n",
       "      <td>Lombardia</td>\n",
       "      <td>...</td>\n",
       "      <td>4.5</td>\n",
       "      <td>80</td>\n",
       "      <td>1421</td>\n",
       "      <td>4238</td>\n",
       "      <td>1765</td>\n",
       "      <td>1325.0</td>\n",
       "      <td>10</td>\n",
       "      <td>4</td>\n",
       "      <td>1</td>\n",
       "      <td>551.37</td>\n",
       "    </tr>\n",
       "    <tr>\n",
       "      <th>307126</th>\n",
       "      <td>2020-11-26</td>\n",
       "      <td>2020-12-05</td>\n",
       "      <td>expert</td>\n",
       "      <td>B</td>\n",
       "      <td>1975-04-01</td>\n",
       "      <td>1993.0</td>\n",
       "      <td>married_no_kids</td>\n",
       "      <td>Impiegato / Quadro / Dirigente</td>\n",
       "      <td>RM</td>\n",
       "      <td>Lazio</td>\n",
       "      <td>...</td>\n",
       "      <td>5.7</td>\n",
       "      <td>70</td>\n",
       "      <td>1490</td>\n",
       "      <td>4065</td>\n",
       "      <td>1687</td>\n",
       "      <td>1100.0</td>\n",
       "      <td>20</td>\n",
       "      <td>1</td>\n",
       "      <td>0</td>\n",
       "      <td>484.24</td>\n",
       "    </tr>\n",
       "    <tr>\n",
       "      <th>307127</th>\n",
       "      <td>2020-12-07</td>\n",
       "      <td>2020-12-10</td>\n",
       "      <td>exclusive</td>\n",
       "      <td>N</td>\n",
       "      <td>1947-09-01</td>\n",
       "      <td>1965.0</td>\n",
       "      <td>widow</td>\n",
       "      <td>Pensionato</td>\n",
       "      <td>PA</td>\n",
       "      <td>Sicilia</td>\n",
       "      <td>...</td>\n",
       "      <td>5.6</td>\n",
       "      <td>50</td>\n",
       "      <td>1540</td>\n",
       "      <td>3538</td>\n",
       "      <td>1578</td>\n",
       "      <td>935.0</td>\n",
       "      <td>10</td>\n",
       "      <td>14</td>\n",
       "      <td>0</td>\n",
       "      <td>1273.67</td>\n",
       "    </tr>\n",
       "  </tbody>\n",
       "</table>\n",
       "<p>307128 rows × 26 columns</p>\n",
       "</div>"
      ],
      "text/plain": [
       "        data_quote data_decorrenza_richiesta tipo_guida insurance_type  \\\n",
       "0       2020-03-04                2020-03-15     expert              B   \n",
       "1       2020-02-20                2020-03-16     expert              B   \n",
       "2       2020-02-10                2020-02-21     expert              B   \n",
       "3       2020-01-04                2020-02-07     expert              B   \n",
       "4       2020-02-06                2020-03-12     expert              B   \n",
       "...            ...                       ...        ...            ...   \n",
       "307123  2020-12-23                2021-01-05     expert              N   \n",
       "307124  2020-06-09                2020-06-10     expert              B   \n",
       "307125  2020-06-12                2020-06-12     expert              B   \n",
       "307126  2020-11-26                2020-12-05     expert              B   \n",
       "307127  2020-12-07                2020-12-10  exclusive              N   \n",
       "\n",
       "       contr_birth_date  contr_license_year contr_marital_status  \\\n",
       "0            1970-01-01              1988.0    married_with_kids   \n",
       "1            1975-01-01              1993.0    married_with_kids   \n",
       "2            1973-01-01              1991.0               single   \n",
       "3            1955-03-01              1974.0    married_with_kids   \n",
       "4            1983-12-01              2001.0      married_no_kids   \n",
       "...                 ...                 ...                  ...   \n",
       "307123       1983-07-01              2002.0               single   \n",
       "307124       1979-05-01              2007.0    married_with_kids   \n",
       "307125       1977-07-01              1996.0    married_with_kids   \n",
       "307126       1975-04-01              1993.0      married_no_kids   \n",
       "307127       1947-09-01              1965.0                widow   \n",
       "\n",
       "                      contr_occupation contr_res_prov  contr_res_region_name  \\\n",
       "0       Impiegato / Quadro / Dirigente             MI              Lombardia   \n",
       "1                              Operaio             BO         Emilia-Romagna   \n",
       "2       Impiegato / Quadro / Dirigente             UD  Friuli-Venezia Giulia   \n",
       "3       Impiegato / Quadro / Dirigente             PD                 Veneto   \n",
       "4                              Operaio             RM                  Lazio   \n",
       "...                                ...            ...                    ...   \n",
       "307123  Impiegato / Quadro / Dirigente             RN         Emilia-Romagna   \n",
       "307124                       Casalinga             MI              Lombardia   \n",
       "307125  Impiegato / Quadro / Dirigente             LO              Lombardia   \n",
       "307126  Impiegato / Quadro / Dirigente             RM                  Lazio   \n",
       "307127                      Pensionato             PA                Sicilia   \n",
       "\n",
       "        ... veh_consumption veh_kw_group veh_height veh_length  veh_width  \\\n",
       "0       ...             6.7           70       1498       4336       1792   \n",
       "1       ...             5.6           90       1635       4440       1855   \n",
       "2       ...             5.1           90       1573       4234       1819   \n",
       "3       ...             6.5          120       1488       3657       1627   \n",
       "4       ...             5.2          110       1590       4385       1831   \n",
       "...     ...             ...          ...        ...        ...        ...   \n",
       "307123  ...             4.9           70       1584       4108       1760   \n",
       "307124  ...             7.8          110       1805       4925       1900   \n",
       "307125  ...             4.5           80       1421       4238       1765   \n",
       "307126  ...             5.7           70       1490       4065       1687   \n",
       "307127  ...             5.6           50       1540       3538       1578   \n",
       "\n",
       "       veh_mass  veh_mileage_cpt  pol_classe_cu  atr_claims  best_price  \n",
       "0        1280.0               10              1           0      455.46  \n",
       "1        1490.0               10              1           0      523.36  \n",
       "2        1270.0               10              1           0      516.91  \n",
       "3        1110.0               10              1           0      446.29  \n",
       "4        1520.0               10              6           0      783.90  \n",
       "...         ...              ...            ...         ...         ...  \n",
       "307123   1245.0               10             14           0      974.24  \n",
       "307124   2175.0               10             17           0      875.30  \n",
       "307125   1325.0               10              4           1      551.37  \n",
       "307126   1100.0               20              1           0      484.24  \n",
       "307127    935.0               10             14           0     1273.67  \n",
       "\n",
       "[307128 rows x 26 columns]"
      ]
     },
     "execution_count": 37,
     "metadata": {},
     "output_type": "execute_result"
    }
   ],
   "source": [
    "fill_nan_values_with_mode(quotazioni_storiche, \"contr_birth_date\")\n",
    "fill_nan_values_with_mode(quotazioni_storiche, \"contr_license_year\")\n",
    "fill_nan_values_with_mode(quotazioni_storiche, \"contr_res_prov\")\n",
    "fill_nan_values_with_mode(quotazioni_storiche, \"veh_consumption\")\n",
    "fill_nan_values_with_mode(quotazioni_storiche, \"veh_mass\")"
   ]
  },
  {
   "cell_type": "code",
   "execution_count": 38,
   "metadata": {},
   "outputs": [
    {
     "data": {
      "text/plain": [
       "data_quote                   0\n",
       "data_decorrenza_richiesta    0\n",
       "tipo_guida                   0\n",
       "insurance_type               0\n",
       "contr_birth_date             0\n",
       "contr_license_year           0\n",
       "contr_marital_status         0\n",
       "contr_occupation             0\n",
       "contr_res_prov               0\n",
       "contr_res_region_name        0\n",
       "veh_registration_date        0\n",
       "veh_purchase_date            0\n",
       "veh_brand_name               0\n",
       "veh_doors_number             0\n",
       "veh_value                    0\n",
       "veh_alimentazione            0\n",
       "veh_consumption              0\n",
       "veh_kw_group                 0\n",
       "veh_height                   0\n",
       "veh_length                   0\n",
       "veh_width                    0\n",
       "veh_mass                     0\n",
       "veh_mileage_cpt              0\n",
       "pol_classe_cu                0\n",
       "atr_claims                   0\n",
       "best_price                   0\n",
       "dtype: int64"
      ]
     },
     "execution_count": 38,
     "metadata": {},
     "output_type": "execute_result"
    }
   ],
   "source": [
    "quotazioni_storiche.isnull().sum()"
   ]
  },
  {
   "cell_type": "markdown",
   "metadata": {},
   "source": [
    "### b. Gestione feature categorici"
   ]
  },
  {
   "cell_type": "markdown",
   "metadata": {},
   "source": [
    "Anche qui per essere in grado di uttlizare i nostri feature dobbiamo transformare tutti i valori testuali in numerichi, e per quello mottivo dobbiamo esseguire encoding, in nostro caso label encoding"
   ]
  },
  {
   "cell_type": "code",
   "execution_count": 39,
   "metadata": {},
   "outputs": [],
   "source": [
    "# Selezionare i feature che si devono transoformare con valori string su valori numerici\n",
    "quotStoriche_featureToEncode = quotazioni_storiche[[\"tipo_guida\", \"insurance_type\", \"contr_marital_status\", \"contr_occupation\", \"contr_res_prov\", \"contr_res_region_name\", \"veh_brand_name\", \"veh_alimentazione\"]]\n",
    "# Selezionare i feature che non si devono transofrmare e sono pronti di uttilizare\n",
    "quotStoriche_featureBuoni = quotazioni_storiche.drop([\"tipo_guida\", \"insurance_type\", \"contr_marital_status\", \"contr_occupation\", \"contr_res_prov\", \"contr_res_region_name\", \"veh_brand_name\", \"veh_alimentazione\"], axis = 1)"
   ]
  },
  {
   "cell_type": "code",
   "execution_count": 40,
   "metadata": {},
   "outputs": [
    {
     "name": "stderr",
     "output_type": "stream",
     "text": [
      "<ipython-input-40-b70e9db6975e>:4: SettingWithCopyWarning: \n",
      "A value is trying to be set on a copy of a slice from a DataFrame.\n",
      "Try using .loc[row_indexer,col_indexer] = value instead\n",
      "\n",
      "See the caveats in the documentation: https://pandas.pydata.org/pandas-docs/stable/user_guide/indexing.html#returning-a-view-versus-a-copy\n",
      "  quotStoriche_featureToEncode[f] = label_encode.fit_transform(quotStoriche_featureToEncode[f].values)\n"
     ]
    }
   ],
   "source": [
    "# Applica il label encoder sui feature per encodare\n",
    "fature_name = quotStoriche_featureToEncode.columns\n",
    "for f in fature_name:\n",
    "    quotStoriche_featureToEncode[f] = label_encode.fit_transform(quotStoriche_featureToEncode[f].values)"
   ]
  },
  {
   "cell_type": "markdown",
   "metadata": {},
   "source": [
    "Dopo questo ultimo passo dobbiamo solo collegare i due dataframe \"quotStoriche_featureToEncode\" e \"quotStoriche_featureBuoni\" in un dataframe \"quotazioni_storiche_df\" dove tutti i feature sono pronti a uttilizare."
   ]
  },
  {
   "cell_type": "code",
   "execution_count": 41,
   "metadata": {},
   "outputs": [],
   "source": [
    "quotazioni_storiche_df = pd.concat([quotStoriche_featureBuoni, quotStoriche_featureToEncode],axis=1)"
   ]
  },
  {
   "cell_type": "markdown",
   "metadata": {},
   "source": [
    "### c. Gestione i feature \"date\""
   ]
  },
  {
   "cell_type": "code",
   "execution_count": 42,
   "metadata": {},
   "outputs": [],
   "source": [
    "split_date(quotazioni_storiche_df)"
   ]
  },
  {
   "cell_type": "markdown",
   "metadata": {},
   "source": [
    "### d. Gestione i alcuni feature speciali"
   ]
  },
  {
   "cell_type": "code",
   "execution_count": 43,
   "metadata": {},
   "outputs": [],
   "source": [
    "quotazioni_storiche_df = contr_licence_year_new_feature(quotazioni_storiche_df)"
   ]
  },
  {
   "cell_type": "code",
   "execution_count": 44,
   "metadata": {},
   "outputs": [
    {
     "name": "stderr",
     "output_type": "stream",
     "text": [
      "<ipython-input-34-85dde85de506>:3: SettingWithCopyWarning: \n",
      "A value is trying to be set on a copy of a slice from a DataFrame\n",
      "\n",
      "See the caveats in the documentation: https://pandas.pydata.org/pandas-docs/stable/user_guide/indexing.html#returning-a-view-versus-a-copy\n",
      "  df.veh_doors_number[df.veh_doors_number == 'unknown'] = 0\n",
      "<ipython-input-34-85dde85de506>:4: SettingWithCopyWarning: \n",
      "A value is trying to be set on a copy of a slice from a DataFrame\n",
      "\n",
      "See the caveats in the documentation: https://pandas.pydata.org/pandas-docs/stable/user_guide/indexing.html#returning-a-view-versus-a-copy\n",
      "  df.veh_doors_number[df.veh_doors_number == '0'] = 0\n",
      "<ipython-input-34-85dde85de506>:5: SettingWithCopyWarning: \n",
      "A value is trying to be set on a copy of a slice from a DataFrame\n",
      "\n",
      "See the caveats in the documentation: https://pandas.pydata.org/pandas-docs/stable/user_guide/indexing.html#returning-a-view-versus-a-copy\n",
      "  df.veh_doors_number[df.veh_doors_number == '2'] = 2\n",
      "<ipython-input-34-85dde85de506>:6: SettingWithCopyWarning: \n",
      "A value is trying to be set on a copy of a slice from a DataFrame\n",
      "\n",
      "See the caveats in the documentation: https://pandas.pydata.org/pandas-docs/stable/user_guide/indexing.html#returning-a-view-versus-a-copy\n",
      "  df.veh_doors_number[df.veh_doors_number == '3'] = 3\n",
      "<ipython-input-34-85dde85de506>:7: SettingWithCopyWarning: \n",
      "A value is trying to be set on a copy of a slice from a DataFrame\n",
      "\n",
      "See the caveats in the documentation: https://pandas.pydata.org/pandas-docs/stable/user_guide/indexing.html#returning-a-view-versus-a-copy\n",
      "  df.veh_doors_number[df.veh_doors_number == '4'] = 4\n",
      "<ipython-input-34-85dde85de506>:8: SettingWithCopyWarning: \n",
      "A value is trying to be set on a copy of a slice from a DataFrame\n",
      "\n",
      "See the caveats in the documentation: https://pandas.pydata.org/pandas-docs/stable/user_guide/indexing.html#returning-a-view-versus-a-copy\n",
      "  df.veh_doors_number[df.veh_doors_number == '5'] = 5\n",
      "<ipython-input-34-85dde85de506>:9: SettingWithCopyWarning: \n",
      "A value is trying to be set on a copy of a slice from a DataFrame\n",
      "\n",
      "See the caveats in the documentation: https://pandas.pydata.org/pandas-docs/stable/user_guide/indexing.html#returning-a-view-versus-a-copy\n",
      "  df.veh_mileage_cpt[df.veh_mileage_cpt == '>30'] = 31\n"
     ]
    }
   ],
   "source": [
    "specific_feature_cleanup(quotazioni_storiche_df)"
   ]
  },
  {
   "cell_type": "markdown",
   "metadata": {},
   "source": [
    "## 4.3 dataframe \"quotazioni\""
   ]
  },
  {
   "cell_type": "markdown",
   "metadata": {},
   "source": [
    "### a. Gestione vallori mancanti"
   ]
  },
  {
   "cell_type": "code",
   "execution_count": 45,
   "metadata": {},
   "outputs": [
    {
     "data": {
      "text/plain": [
       "data_quote                      0\n",
       "data_decorrenza_richiesta       0\n",
       "tipo_guida                      0\n",
       "insurance_type                  0\n",
       "contr_birth_date             1603\n",
       "contr_license_year           1975\n",
       "contr_marital_status            0\n",
       "contr_occupation                0\n",
       "contr_res_prov               4539\n",
       "contr_res_region_name           0\n",
       "veh_registration_date           0\n",
       "veh_purchase_date               0\n",
       "veh_brand_name                  0\n",
       "veh_doors_number                0\n",
       "veh_value                       0\n",
       "veh_alimentazione               0\n",
       "veh_consumption                 4\n",
       "veh_kw_group                    0\n",
       "veh_height                      0\n",
       "veh_length                      0\n",
       "veh_width                       0\n",
       "veh_mass                        4\n",
       "veh_mileage_cpt                 0\n",
       "pol_classe_cu                   0\n",
       "atr_claims                      0\n",
       "dtype: int64"
      ]
     },
     "execution_count": 45,
     "metadata": {},
     "output_type": "execute_result"
    }
   ],
   "source": [
    "quotazioni.isnull().sum()"
   ]
  },
  {
   "cell_type": "markdown",
   "metadata": {},
   "source": [
    "Anche qui abbiamo 5 feature che hanno valori mancanti: contr_birth_date, contr_license_year, contr_res_prov, veh_consumption, veh_mass, e per tutti uttilizero la mediana "
   ]
  },
  {
   "cell_type": "code",
   "execution_count": 46,
   "metadata": {},
   "outputs": [
    {
     "data": {
      "text/html": [
       "<div>\n",
       "<style scoped>\n",
       "    .dataframe tbody tr th:only-of-type {\n",
       "        vertical-align: middle;\n",
       "    }\n",
       "\n",
       "    .dataframe tbody tr th {\n",
       "        vertical-align: top;\n",
       "    }\n",
       "\n",
       "    .dataframe thead th {\n",
       "        text-align: right;\n",
       "    }\n",
       "</style>\n",
       "<table border=\"1\" class=\"dataframe\">\n",
       "  <thead>\n",
       "    <tr style=\"text-align: right;\">\n",
       "      <th></th>\n",
       "      <th>data_quote</th>\n",
       "      <th>data_decorrenza_richiesta</th>\n",
       "      <th>tipo_guida</th>\n",
       "      <th>insurance_type</th>\n",
       "      <th>contr_birth_date</th>\n",
       "      <th>contr_license_year</th>\n",
       "      <th>contr_marital_status</th>\n",
       "      <th>contr_occupation</th>\n",
       "      <th>contr_res_prov</th>\n",
       "      <th>contr_res_region_name</th>\n",
       "      <th>...</th>\n",
       "      <th>veh_alimentazione</th>\n",
       "      <th>veh_consumption</th>\n",
       "      <th>veh_kw_group</th>\n",
       "      <th>veh_height</th>\n",
       "      <th>veh_length</th>\n",
       "      <th>veh_width</th>\n",
       "      <th>veh_mass</th>\n",
       "      <th>veh_mileage_cpt</th>\n",
       "      <th>pol_classe_cu</th>\n",
       "      <th>atr_claims</th>\n",
       "    </tr>\n",
       "  </thead>\n",
       "  <tbody>\n",
       "    <tr>\n",
       "      <th>0</th>\n",
       "      <td>2020-02-06</td>\n",
       "      <td>2020-03-07</td>\n",
       "      <td>exclusive</td>\n",
       "      <td>B</td>\n",
       "      <td>1972-04-01</td>\n",
       "      <td>1990.0</td>\n",
       "      <td>married_with_kids</td>\n",
       "      <td>Impiegato / Quadro / Dirigente</td>\n",
       "      <td>BR</td>\n",
       "      <td>Puglia</td>\n",
       "      <td>...</td>\n",
       "      <td>Diesel</td>\n",
       "      <td>5.9</td>\n",
       "      <td>110</td>\n",
       "      <td>1517</td>\n",
       "      <td>4774</td>\n",
       "      <td>1820</td>\n",
       "      <td>1585.0</td>\n",
       "      <td>10</td>\n",
       "      <td>1</td>\n",
       "      <td>0</td>\n",
       "    </tr>\n",
       "    <tr>\n",
       "      <th>1</th>\n",
       "      <td>2020-01-22</td>\n",
       "      <td>2020-01-25</td>\n",
       "      <td>expert</td>\n",
       "      <td>B</td>\n",
       "      <td>1965-12-01</td>\n",
       "      <td>1984.0</td>\n",
       "      <td>married_with_kids</td>\n",
       "      <td>Operaio</td>\n",
       "      <td>MB</td>\n",
       "      <td>Lombardia</td>\n",
       "      <td>...</td>\n",
       "      <td>Diesel</td>\n",
       "      <td>4.7</td>\n",
       "      <td>90</td>\n",
       "      <td>1702</td>\n",
       "      <td>4524</td>\n",
       "      <td>1838</td>\n",
       "      <td>1614.0</td>\n",
       "      <td>10</td>\n",
       "      <td>1</td>\n",
       "      <td>0</td>\n",
       "    </tr>\n",
       "    <tr>\n",
       "      <th>2</th>\n",
       "      <td>2020-02-23</td>\n",
       "      <td>2020-03-11</td>\n",
       "      <td>expert</td>\n",
       "      <td>B</td>\n",
       "      <td>1967-07-01</td>\n",
       "      <td>1986.0</td>\n",
       "      <td>married_with_kids</td>\n",
       "      <td>Forze Armate / Guardia / Vigile</td>\n",
       "      <td>PD</td>\n",
       "      <td>Veneto</td>\n",
       "      <td>...</td>\n",
       "      <td>Benzina</td>\n",
       "      <td>6.0</td>\n",
       "      <td>40</td>\n",
       "      <td>1420</td>\n",
       "      <td>3337</td>\n",
       "      <td>1508</td>\n",
       "      <td>810.0</td>\n",
       "      <td>10</td>\n",
       "      <td>1</td>\n",
       "      <td>0</td>\n",
       "    </tr>\n",
       "    <tr>\n",
       "      <th>3</th>\n",
       "      <td>2020-02-28</td>\n",
       "      <td>2020-02-28</td>\n",
       "      <td>expert</td>\n",
       "      <td>B</td>\n",
       "      <td>1979-11-01</td>\n",
       "      <td>1997.0</td>\n",
       "      <td>married_no_kids</td>\n",
       "      <td>Impiegato / Quadro / Dirigente</td>\n",
       "      <td>VA</td>\n",
       "      <td>Lombardia</td>\n",
       "      <td>...</td>\n",
       "      <td>Diesel</td>\n",
       "      <td>4.2</td>\n",
       "      <td>60</td>\n",
       "      <td>1488</td>\n",
       "      <td>3546</td>\n",
       "      <td>1627</td>\n",
       "      <td>1055.0</td>\n",
       "      <td>10</td>\n",
       "      <td>1</td>\n",
       "      <td>0</td>\n",
       "    </tr>\n",
       "    <tr>\n",
       "      <th>4</th>\n",
       "      <td>2020-01-03</td>\n",
       "      <td>2020-01-09</td>\n",
       "      <td>exclusive</td>\n",
       "      <td>B</td>\n",
       "      <td>1983-09-01</td>\n",
       "      <td>2002.0</td>\n",
       "      <td>married_no_kids</td>\n",
       "      <td>Libero professionista</td>\n",
       "      <td>RM</td>\n",
       "      <td>Lazio</td>\n",
       "      <td>...</td>\n",
       "      <td>Diesel</td>\n",
       "      <td>3.7</td>\n",
       "      <td>80</td>\n",
       "      <td>1556</td>\n",
       "      <td>4159</td>\n",
       "      <td>1739</td>\n",
       "      <td>1235.0</td>\n",
       "      <td>10</td>\n",
       "      <td>1</td>\n",
       "      <td>0</td>\n",
       "    </tr>\n",
       "    <tr>\n",
       "      <th>...</th>\n",
       "      <td>...</td>\n",
       "      <td>...</td>\n",
       "      <td>...</td>\n",
       "      <td>...</td>\n",
       "      <td>...</td>\n",
       "      <td>...</td>\n",
       "      <td>...</td>\n",
       "      <td>...</td>\n",
       "      <td>...</td>\n",
       "      <td>...</td>\n",
       "      <td>...</td>\n",
       "      <td>...</td>\n",
       "      <td>...</td>\n",
       "      <td>...</td>\n",
       "      <td>...</td>\n",
       "      <td>...</td>\n",
       "      <td>...</td>\n",
       "      <td>...</td>\n",
       "      <td>...</td>\n",
       "      <td>...</td>\n",
       "      <td>...</td>\n",
       "    </tr>\n",
       "    <tr>\n",
       "      <th>205260</th>\n",
       "      <td>2020-06-05</td>\n",
       "      <td>2020-06-18</td>\n",
       "      <td>expert</td>\n",
       "      <td>B</td>\n",
       "      <td>1983-06-01</td>\n",
       "      <td>2001.0</td>\n",
       "      <td>married_with_kids</td>\n",
       "      <td>Operaio</td>\n",
       "      <td>RM</td>\n",
       "      <td>Lazio</td>\n",
       "      <td>...</td>\n",
       "      <td>Diesel</td>\n",
       "      <td>5.1</td>\n",
       "      <td>90</td>\n",
       "      <td>1436</td>\n",
       "      <td>4699</td>\n",
       "      <td>1826</td>\n",
       "      <td>1600.0</td>\n",
       "      <td>10</td>\n",
       "      <td>1</td>\n",
       "      <td>0</td>\n",
       "    </tr>\n",
       "    <tr>\n",
       "      <th>205261</th>\n",
       "      <td>2020-12-09</td>\n",
       "      <td>2020-12-09</td>\n",
       "      <td>expert</td>\n",
       "      <td>B</td>\n",
       "      <td>1968-04-01</td>\n",
       "      <td>1986.0</td>\n",
       "      <td>married_with_kids</td>\n",
       "      <td>Impiegato / Quadro / Dirigente</td>\n",
       "      <td>RG</td>\n",
       "      <td>Sicilia</td>\n",
       "      <td>...</td>\n",
       "      <td>Diesel</td>\n",
       "      <td>4.4</td>\n",
       "      <td>70</td>\n",
       "      <td>1493</td>\n",
       "      <td>3986</td>\n",
       "      <td>1707</td>\n",
       "      <td>1250.0</td>\n",
       "      <td>10</td>\n",
       "      <td>1</td>\n",
       "      <td>0</td>\n",
       "    </tr>\n",
       "    <tr>\n",
       "      <th>205262</th>\n",
       "      <td>2020-06-05</td>\n",
       "      <td>2020-06-18</td>\n",
       "      <td>expert</td>\n",
       "      <td>N</td>\n",
       "      <td>1959-02-01</td>\n",
       "      <td>1983.0</td>\n",
       "      <td>married_with_kids</td>\n",
       "      <td>Altro</td>\n",
       "      <td>BR</td>\n",
       "      <td>Puglia</td>\n",
       "      <td>...</td>\n",
       "      <td>Benzina</td>\n",
       "      <td>6.0</td>\n",
       "      <td>50</td>\n",
       "      <td>1510</td>\n",
       "      <td>3860</td>\n",
       "      <td>1667</td>\n",
       "      <td>1085.0</td>\n",
       "      <td>10</td>\n",
       "      <td>14</td>\n",
       "      <td>0</td>\n",
       "    </tr>\n",
       "    <tr>\n",
       "      <th>205263</th>\n",
       "      <td>2020-06-09</td>\n",
       "      <td>2020-06-09</td>\n",
       "      <td>expert</td>\n",
       "      <td>N</td>\n",
       "      <td>1991-09-01</td>\n",
       "      <td>2011.0</td>\n",
       "      <td>married_no_kids</td>\n",
       "      <td>Libero professionista</td>\n",
       "      <td>GR</td>\n",
       "      <td>Toscana</td>\n",
       "      <td>...</td>\n",
       "      <td>GPL</td>\n",
       "      <td>5.1</td>\n",
       "      <td>50</td>\n",
       "      <td>1551</td>\n",
       "      <td>3640</td>\n",
       "      <td>1597</td>\n",
       "      <td>1015.0</td>\n",
       "      <td>20</td>\n",
       "      <td>14</td>\n",
       "      <td>0</td>\n",
       "    </tr>\n",
       "    <tr>\n",
       "      <th>205264</th>\n",
       "      <td>2020-06-09</td>\n",
       "      <td>2020-06-10</td>\n",
       "      <td>exclusive</td>\n",
       "      <td>B</td>\n",
       "      <td>1991-09-01</td>\n",
       "      <td>2015.0</td>\n",
       "      <td>single</td>\n",
       "      <td>Impiegato / Quadro / Dirigente</td>\n",
       "      <td>RM</td>\n",
       "      <td>Lazio</td>\n",
       "      <td>...</td>\n",
       "      <td>Benzina</td>\n",
       "      <td>6.4</td>\n",
       "      <td>60</td>\n",
       "      <td>1620</td>\n",
       "      <td>3731</td>\n",
       "      <td>1690</td>\n",
       "      <td>1215.0</td>\n",
       "      <td>20</td>\n",
       "      <td>3</td>\n",
       "      <td>0</td>\n",
       "    </tr>\n",
       "  </tbody>\n",
       "</table>\n",
       "<p>205265 rows × 25 columns</p>\n",
       "</div>"
      ],
      "text/plain": [
       "        data_quote data_decorrenza_richiesta tipo_guida insurance_type  \\\n",
       "0       2020-02-06                2020-03-07  exclusive              B   \n",
       "1       2020-01-22                2020-01-25     expert              B   \n",
       "2       2020-02-23                2020-03-11     expert              B   \n",
       "3       2020-02-28                2020-02-28     expert              B   \n",
       "4       2020-01-03                2020-01-09  exclusive              B   \n",
       "...            ...                       ...        ...            ...   \n",
       "205260  2020-06-05                2020-06-18     expert              B   \n",
       "205261  2020-12-09                2020-12-09     expert              B   \n",
       "205262  2020-06-05                2020-06-18     expert              N   \n",
       "205263  2020-06-09                2020-06-09     expert              N   \n",
       "205264  2020-06-09                2020-06-10  exclusive              B   \n",
       "\n",
       "       contr_birth_date  contr_license_year contr_marital_status  \\\n",
       "0            1972-04-01              1990.0    married_with_kids   \n",
       "1            1965-12-01              1984.0    married_with_kids   \n",
       "2            1967-07-01              1986.0    married_with_kids   \n",
       "3            1979-11-01              1997.0      married_no_kids   \n",
       "4            1983-09-01              2002.0      married_no_kids   \n",
       "...                 ...                 ...                  ...   \n",
       "205260       1983-06-01              2001.0    married_with_kids   \n",
       "205261       1968-04-01              1986.0    married_with_kids   \n",
       "205262       1959-02-01              1983.0    married_with_kids   \n",
       "205263       1991-09-01              2011.0      married_no_kids   \n",
       "205264       1991-09-01              2015.0               single   \n",
       "\n",
       "                       contr_occupation contr_res_prov contr_res_region_name  \\\n",
       "0        Impiegato / Quadro / Dirigente             BR                Puglia   \n",
       "1                               Operaio             MB             Lombardia   \n",
       "2       Forze Armate / Guardia / Vigile             PD                Veneto   \n",
       "3        Impiegato / Quadro / Dirigente             VA             Lombardia   \n",
       "4                 Libero professionista             RM                 Lazio   \n",
       "...                                 ...            ...                   ...   \n",
       "205260                          Operaio             RM                 Lazio   \n",
       "205261   Impiegato / Quadro / Dirigente             RG               Sicilia   \n",
       "205262                            Altro             BR                Puglia   \n",
       "205263            Libero professionista             GR               Toscana   \n",
       "205264   Impiegato / Quadro / Dirigente             RM                 Lazio   \n",
       "\n",
       "        ... veh_alimentazione veh_consumption veh_kw_group veh_height  \\\n",
       "0       ...            Diesel             5.9          110       1517   \n",
       "1       ...            Diesel             4.7           90       1702   \n",
       "2       ...           Benzina             6.0           40       1420   \n",
       "3       ...            Diesel             4.2           60       1488   \n",
       "4       ...            Diesel             3.7           80       1556   \n",
       "...     ...               ...             ...          ...        ...   \n",
       "205260  ...            Diesel             5.1           90       1436   \n",
       "205261  ...            Diesel             4.4           70       1493   \n",
       "205262  ...           Benzina             6.0           50       1510   \n",
       "205263  ...               GPL             5.1           50       1551   \n",
       "205264  ...           Benzina             6.4           60       1620   \n",
       "\n",
       "        veh_length veh_width  veh_mass  veh_mileage_cpt  pol_classe_cu  \\\n",
       "0             4774      1820    1585.0               10              1   \n",
       "1             4524      1838    1614.0               10              1   \n",
       "2             3337      1508     810.0               10              1   \n",
       "3             3546      1627    1055.0               10              1   \n",
       "4             4159      1739    1235.0               10              1   \n",
       "...            ...       ...       ...              ...            ...   \n",
       "205260        4699      1826    1600.0               10              1   \n",
       "205261        3986      1707    1250.0               10              1   \n",
       "205262        3860      1667    1085.0               10             14   \n",
       "205263        3640      1597    1015.0               20             14   \n",
       "205264        3731      1690    1215.0               20              3   \n",
       "\n",
       "        atr_claims  \n",
       "0                0  \n",
       "1                0  \n",
       "2                0  \n",
       "3                0  \n",
       "4                0  \n",
       "...            ...  \n",
       "205260           0  \n",
       "205261           0  \n",
       "205262           0  \n",
       "205263           0  \n",
       "205264           0  \n",
       "\n",
       "[205265 rows x 25 columns]"
      ]
     },
     "execution_count": 46,
     "metadata": {},
     "output_type": "execute_result"
    }
   ],
   "source": [
    "fill_nan_values_with_mode(quotazioni, \"contr_birth_date\")\n",
    "fill_nan_values_with_mode(quotazioni, \"contr_license_year\")\n",
    "fill_nan_values_with_mode(quotazioni, \"contr_res_prov\")\n",
    "fill_nan_values_with_mode(quotazioni, \"veh_consumption\")\n",
    "fill_nan_values_with_mode(quotazioni, \"veh_mass\")"
   ]
  },
  {
   "cell_type": "code",
   "execution_count": 47,
   "metadata": {},
   "outputs": [
    {
     "data": {
      "text/plain": [
       "data_quote                   0\n",
       "data_decorrenza_richiesta    0\n",
       "tipo_guida                   0\n",
       "insurance_type               0\n",
       "contr_birth_date             0\n",
       "contr_license_year           0\n",
       "contr_marital_status         0\n",
       "contr_occupation             0\n",
       "contr_res_prov               0\n",
       "contr_res_region_name        0\n",
       "veh_registration_date        0\n",
       "veh_purchase_date            0\n",
       "veh_brand_name               0\n",
       "veh_doors_number             0\n",
       "veh_value                    0\n",
       "veh_alimentazione            0\n",
       "veh_consumption              0\n",
       "veh_kw_group                 0\n",
       "veh_height                   0\n",
       "veh_length                   0\n",
       "veh_width                    0\n",
       "veh_mass                     0\n",
       "veh_mileage_cpt              0\n",
       "pol_classe_cu                0\n",
       "atr_claims                   0\n",
       "dtype: int64"
      ]
     },
     "execution_count": 47,
     "metadata": {},
     "output_type": "execute_result"
    }
   ],
   "source": [
    "quotazioni.isnull().sum()"
   ]
  },
  {
   "cell_type": "markdown",
   "metadata": {},
   "source": [
    "### b. Gestione feature categorici"
   ]
  },
  {
   "cell_type": "markdown",
   "metadata": {},
   "source": [
    "Anche qui per essere in grado di uttlizare i nostri feature dobbiamo transformare tutti i valori testuali in numerichi, e per quello mottivo dobbiamo esseguire encoding, in nostro caso label encoding"
   ]
  },
  {
   "cell_type": "code",
   "execution_count": 48,
   "metadata": {},
   "outputs": [],
   "source": [
    "# Selezionare i feature che si devono transoformare con valori string su valori numerici\n",
    "quot_featureToEncode = quotazioni[[\"tipo_guida\", \"insurance_type\", \"contr_marital_status\", \"contr_occupation\", \"contr_res_prov\", \"contr_res_region_name\", \"veh_brand_name\", \"veh_alimentazione\"]]\n",
    "# Selezionare i feature che non si devono transofrmare e sono pronti di uttilizare\n",
    "quot_featureBuoni = quotazioni.drop([\"tipo_guida\", \"insurance_type\", \"contr_marital_status\", \"contr_occupation\", \"contr_res_prov\", \"contr_res_region_name\", \"veh_brand_name\", \"veh_alimentazione\"], axis = 1)"
   ]
  },
  {
   "cell_type": "code",
   "execution_count": 49,
   "metadata": {},
   "outputs": [
    {
     "name": "stderr",
     "output_type": "stream",
     "text": [
      "<ipython-input-49-20a72eb63c40>:4: SettingWithCopyWarning: \n",
      "A value is trying to be set on a copy of a slice from a DataFrame.\n",
      "Try using .loc[row_indexer,col_indexer] = value instead\n",
      "\n",
      "See the caveats in the documentation: https://pandas.pydata.org/pandas-docs/stable/user_guide/indexing.html#returning-a-view-versus-a-copy\n",
      "  quot_featureToEncode[f] = label_encode.fit_transform(quot_featureToEncode[f].values)\n"
     ]
    }
   ],
   "source": [
    "# Applica il label encoder sui feature per encodare\n",
    "fature_name = quot_featureToEncode.columns\n",
    "for f in fature_name:\n",
    "    quot_featureToEncode[f] = label_encode.fit_transform(quot_featureToEncode[f].values)"
   ]
  },
  {
   "cell_type": "markdown",
   "metadata": {},
   "source": [
    "Dopo questo ultimo passo dobbiamo solo collegare i due dataframe \"quot_featureToEncode\" e \"quot_featureBuoni\" in un dataframe \"quotazionie_df\" dove tutti i feature sono pronti a uttilizare."
   ]
  },
  {
   "cell_type": "code",
   "execution_count": 50,
   "metadata": {},
   "outputs": [],
   "source": [
    "quotazioni_df = pd.concat([quot_featureBuoni, quot_featureToEncode],axis=1)"
   ]
  },
  {
   "cell_type": "markdown",
   "metadata": {},
   "source": [
    "### c. Gestione i feature \"date\""
   ]
  },
  {
   "cell_type": "code",
   "execution_count": 51,
   "metadata": {},
   "outputs": [],
   "source": [
    "split_date(quotazioni_df)"
   ]
  },
  {
   "cell_type": "markdown",
   "metadata": {},
   "source": [
    "### d. Gestione i alcuni feature speciali"
   ]
  },
  {
   "cell_type": "code",
   "execution_count": 52,
   "metadata": {},
   "outputs": [],
   "source": [
    "quotazioni_df = contr_licence_year_new_feature(quotazioni_df)"
   ]
  },
  {
   "cell_type": "code",
   "execution_count": 53,
   "metadata": {},
   "outputs": [
    {
     "name": "stderr",
     "output_type": "stream",
     "text": [
      "<ipython-input-34-85dde85de506>:3: SettingWithCopyWarning: \n",
      "A value is trying to be set on a copy of a slice from a DataFrame\n",
      "\n",
      "See the caveats in the documentation: https://pandas.pydata.org/pandas-docs/stable/user_guide/indexing.html#returning-a-view-versus-a-copy\n",
      "  df.veh_doors_number[df.veh_doors_number == 'unknown'] = 0\n",
      "<ipython-input-34-85dde85de506>:4: SettingWithCopyWarning: \n",
      "A value is trying to be set on a copy of a slice from a DataFrame\n",
      "\n",
      "See the caveats in the documentation: https://pandas.pydata.org/pandas-docs/stable/user_guide/indexing.html#returning-a-view-versus-a-copy\n",
      "  df.veh_doors_number[df.veh_doors_number == '0'] = 0\n",
      "<ipython-input-34-85dde85de506>:5: SettingWithCopyWarning: \n",
      "A value is trying to be set on a copy of a slice from a DataFrame\n",
      "\n",
      "See the caveats in the documentation: https://pandas.pydata.org/pandas-docs/stable/user_guide/indexing.html#returning-a-view-versus-a-copy\n",
      "  df.veh_doors_number[df.veh_doors_number == '2'] = 2\n",
      "<ipython-input-34-85dde85de506>:6: SettingWithCopyWarning: \n",
      "A value is trying to be set on a copy of a slice from a DataFrame\n",
      "\n",
      "See the caveats in the documentation: https://pandas.pydata.org/pandas-docs/stable/user_guide/indexing.html#returning-a-view-versus-a-copy\n",
      "  df.veh_doors_number[df.veh_doors_number == '3'] = 3\n",
      "<ipython-input-34-85dde85de506>:7: SettingWithCopyWarning: \n",
      "A value is trying to be set on a copy of a slice from a DataFrame\n",
      "\n",
      "See the caveats in the documentation: https://pandas.pydata.org/pandas-docs/stable/user_guide/indexing.html#returning-a-view-versus-a-copy\n",
      "  df.veh_doors_number[df.veh_doors_number == '4'] = 4\n",
      "<ipython-input-34-85dde85de506>:8: SettingWithCopyWarning: \n",
      "A value is trying to be set on a copy of a slice from a DataFrame\n",
      "\n",
      "See the caveats in the documentation: https://pandas.pydata.org/pandas-docs/stable/user_guide/indexing.html#returning-a-view-versus-a-copy\n",
      "  df.veh_doors_number[df.veh_doors_number == '5'] = 5\n",
      "<ipython-input-34-85dde85de506>:9: SettingWithCopyWarning: \n",
      "A value is trying to be set on a copy of a slice from a DataFrame\n",
      "\n",
      "See the caveats in the documentation: https://pandas.pydata.org/pandas-docs/stable/user_guide/indexing.html#returning-a-view-versus-a-copy\n",
      "  df.veh_mileage_cpt[df.veh_mileage_cpt == '>30'] = 31\n"
     ]
    }
   ],
   "source": [
    "specific_feature_cleanup(quotazioni_df)"
   ]
  },
  {
   "cell_type": "markdown",
   "metadata": {},
   "source": [
    "### Ora abbiamo i nostri dataset pronti per procedere con le nostre preidzioni"
   ]
  },
  {
   "cell_type": "markdown",
   "metadata": {},
   "source": [
    "# 5. Creazione e implementazione modeli Machine Learning"
   ]
  },
  {
   "cell_type": "markdown",
   "metadata": {},
   "source": [
    "#### Questa parte sara fatta in 5 passi:\n",
    "#### 1. Train e test un modello ML sul dataframe \"storico_rischi_df\" per trovare il \"risk\" della polisa asicurativa\n",
    "#### 2. Fare una predizione del \"risk\" per le polise asicurative nel dataframe \"quotazioni_storiche_df\" e aggiungere il feature \"predicted_risk\" al dataframe  \"quotazioni_storiche_df\"\n",
    "#### 3. Train e test un altro modello ML sul dataframe \"quotazioni_storiche_df\" per trovare il \"best price\" della polisa asicurativa\n",
    "#### 4. Fare una predizione con il primo modelo del \"risk\" per le polise asicurative nel dataframe \"quotazioni\" e aggiungere il feature \"predicted_risk\" al dataframe  \"quotazioni\"\n",
    "#### 5. Fare una predizione con il secondo modelo del \"best price\" le polise asicurative sul dataframe \"quotazioni\" e salvare l'esito in un CSV file"
   ]
  },
  {
   "cell_type": "markdown",
   "metadata": {},
   "source": [
    "Sellezionare i feature neccesari e separare il dataset storico_rischi_df su training e testing dataset"
   ]
  },
  {
   "cell_type": "code",
   "execution_count": 54,
   "metadata": {},
   "outputs": [],
   "source": [
    "# Lista di feature che sono piu uttili per le nostre predizioni\n",
    "features = ['veh_doors_number', 'veh_value', 'veh_kw_group', 'veh_height', 'veh_length', 'veh_width', 'veh_mass', 'veh_mileage_cpt', 'pol_classe_cu', 'atr_claims', 'tipo_guida', 'insurance_type','contr_marital_status', 'contr_occupation', 'contr_res_prov', 'contr_res_region_name', 'veh_brand_name', 'veh_alimentazione','year_contr_birth_date', 'year_veh_registration_date', 'year_veh_purchase_date', 'contr_license_year']\n",
    "# Feature dependente\n",
    "y = storico_rischi_df.risk\n",
    "# Split del dataset su training e testing, test size 30%\n",
    "x_train, x_test, y_train, y_test = train_test_split(storico_rischi_df[features], y, test_size=0.3, random_state=0)"
   ]
  },
  {
   "cell_type": "markdown",
   "metadata": {},
   "source": [
    "### 1. Primo modelo ML training e testing sul dataframe \"storico_rischi_df\""
   ]
  },
  {
   "cell_type": "code",
   "execution_count": null,
   "metadata": {},
   "outputs": [],
   "source": [
    "# Ho scelto di uttilizare l'algoritmo Random Forest Regrsssor con gli hyperparameters che hanno mostrato il migliore risultato\n",
    "model_risk = RandomForestRegressor(bootstrap = True, max_depth = 80, max_features = 20, min_samples_leaf = 5, min_samples_split = 12, n_estimators = 100)\n",
    "model_name = [\"RandomForestRegressor\"]\n",
    "\n",
    "# Applicare il model per fare il training\n",
    "model_risk.fit(x_train,y_train)\n",
    "print(\"The model\", *model_name, \"have been trained on the training dataset!\")"
   ]
  },
  {
   "cell_type": "code",
   "execution_count": null,
   "metadata": {},
   "outputs": [],
   "source": [
    "# Test il primo ML model sul testing dataset\n",
    "rmsle=[]\n",
    "d={}\n",
    "model_name = [\"RandomForestRegressor\"]\n",
    "test_pred=model_risk.predict(x_test)    \n",
    "rmsle.append(np.sqrt(mean_squared_log_error(test_pred,y_test)))\n",
    "print(\"The model have been tested on the test dataset.\")\n",
    "d = {'Algorithm':model_name,'RMSLE':rmsle}  \n",
    "rmsle_frame = pd.DataFrame(d)\n",
    "print(rmsle_frame)"
   ]
  },
  {
   "cell_type": "markdown",
   "metadata": {},
   "source": [
    "### 2. Uttilizo del primo modelo ML per fare la predizione del \"risk\" per le polise assicurative nel dataframe \"quotazioni_storiche_df\""
   ]
  },
  {
   "cell_type": "code",
   "execution_count": null,
   "metadata": {},
   "outputs": [],
   "source": [
    "# Lista di feature che sono piu uttili per le nostre predizioni\n",
    "features = ['veh_doors_number', 'veh_value', 'veh_kw_group', 'veh_height', 'veh_length', 'veh_width', 'veh_mass', 'veh_mileage_cpt', 'pol_classe_cu', 'atr_claims', 'tipo_guida', 'insurance_type','contr_marital_status', 'contr_occupation', 'contr_res_prov', 'contr_res_region_name', 'veh_brand_name', 'veh_alimentazione','year_contr_birth_date', 'year_veh_registration_date', 'year_veh_purchase_date', 'contr_license_year']\n",
    "X_pred = quotazioni_storiche_df[features]\n",
    "\n",
    "# Predizione del risk \n",
    "prediction_risk = model.predict(X_pred)"
   ]
  },
  {
   "cell_type": "code",
   "execution_count": null,
   "metadata": {},
   "outputs": [],
   "source": [
    "# Transformazione del esito da una lista in un dataframe e rinominare il dataframe come \"predicted_risk\"\n",
    "feature_risk = pd.DataFrame(prediction_risk)\n",
    "feature_risk.rename(columns = {0:'predicted_risk'}, inplace = True)"
   ]
  },
  {
   "cell_type": "markdown",
   "metadata": {},
   "source": [
    "Prima dobbiamo aggiungere il feature risk che abbiamo trovato nel step 2, perche ora utilizeremo questo dataframe per creare il modelo ML che sara uttilizato per trovare il \"best price\" sul dataframe \"quotazionie_df\""
   ]
  },
  {
   "cell_type": "code",
   "execution_count": null,
   "metadata": {},
   "outputs": [],
   "source": [
    "quotazioni_storiche_con_risk_df = pd.concat([quotazioni_storiche_df, feature_risk],axis=1)"
   ]
  },
  {
   "cell_type": "markdown",
   "metadata": {},
   "source": [
    "Sellezionare i feature neccesari e separare il dataset storico_rischi_df su training e test dataset"
   ]
  },
  {
   "cell_type": "code",
   "execution_count": null,
   "metadata": {},
   "outputs": [],
   "source": [
    "# Lista di feature che sono piu uttili per le nostre predizioni\n",
    "features = ['veh_doors_number', 'veh_value', 'veh_kw_group', 'veh_height', 'veh_length', 'veh_width', 'veh_mass', 'veh_mileage_cpt', 'pol_classe_cu', 'atr_claims', 'tipo_guida', 'insurance_type','contr_marital_status', 'contr_occupation', 'contr_res_prov', 'contr_res_region_name', 'veh_brand_name', 'veh_alimentazione','year_contr_birth_date', 'year_veh_registration_date', 'year_veh_purchase_date', 'contr_license_year','predicted_risk']\n",
    "# Feature dependente\n",
    "y2 = quotazioni_storiche_con_risk_df.best_price\n",
    "\n",
    "# Split del dataset su training e testing, test size 30%\n",
    "x_train2, x_test2, y_train2, y_test2 = train_test_split(quotazioni_storiche_con_risk_df[features], y2, test_size=0.3, random_state=0)"
   ]
  },
  {
   "cell_type": "markdown",
   "metadata": {},
   "source": [
    "### 3. Secondo modello ML training e testing sul dataframe \"quotazioni_storiche_df\" per trovare il \"best price\""
   ]
  },
  {
   "cell_type": "code",
   "execution_count": null,
   "metadata": {},
   "outputs": [],
   "source": [
    "# Ho scelto di uttilizare l'algoritmo Random Forest Regrsssor con gli hyperparameters che hanno mostrato il migliore risultato\n",
    "model_best_price = RandomForestRegressor(bootstrap = True, max_depth = 80, max_features = 20, min_samples_leaf = 5, min_samples_split = 12, n_estimators = 100)\n",
    "model_name = [\"RandomForestRegressor\"]\n",
    "\n",
    "# Applicare il model per fare il training\n",
    "model_best_price.fit(x_train2,y_train2)\n",
    "print(\"The model\", model_name, \"have been trained on the training dataset!\")"
   ]
  },
  {
   "cell_type": "code",
   "execution_count": null,
   "metadata": {},
   "outputs": [],
   "source": [
    "# Test il primo ML model sul testing dataset\n",
    "rmsle=[]\n",
    "d={}\n",
    "model_name = [\"RandomForestRegressor\"]\n",
    "test_pred2 = model_best_price.predict(x_test2)    \n",
    "rmsle.append(np.sqrt(mean_squared_log_error(test_pred2, y_test2)))\n",
    "print(\"The model have been tested on the test dataset.\")\n",
    "d = {'Algorithm':model_name,'RMSLE':rmsle}  \n",
    "rmsle_frame = pd.DataFrame(d)\n",
    "print(rmsle_frame)"
   ]
  },
  {
   "cell_type": "markdown",
   "metadata": {},
   "source": [
    "### 4. Uttilizo del primo modelo ML per fare la predizione del \"risk\" per le polise assicurative nel dataframe \"quotazioni_df\""
   ]
  },
  {
   "cell_type": "code",
   "execution_count": null,
   "metadata": {},
   "outputs": [],
   "source": [
    "# Ho scelto di uttilizare l'algoritmo Random Forest Regrsssor con gli hyperparameters che hanno mostrato il migliore risultato\n",
    "features_risk = ['veh_doors_number', 'veh_value', 'veh_kw_group', 'veh_height', 'veh_length', 'veh_width', 'veh_mass', 'veh_mileage_cpt', 'pol_classe_cu', 'atr_claims', 'tipo_guida', 'insurance_type','contr_marital_status', 'contr_occupation', 'contr_res_prov', 'contr_res_region_name', 'veh_brand_name', 'veh_alimentazione','year_contr_birth_date', 'year_veh_registration_date', 'year_veh_purchase_date', 'contr_license_year']\n",
    "x_pred_risk = quotazioni_df[features_risk]\n",
    "\n",
    "# Predizione del risk \n",
    "prediction_risk = model_risk.predict(x_pred_risk)\n",
    "\n",
    "# Transformazione del esito da una lista in un dataframe e rinominare il dataframe come \"predicted_risk\"\n",
    "prediction_risk = pd.DataFrame(prediction_risk)\n",
    "prediction_risk.rename(columns = {0:'predicted_risk'}, inplace = True)\n",
    "quotazioni_con_risk_df = pd.concat([quotazioni_df, prediction_risk],axis=1)"
   ]
  },
  {
   "cell_type": "markdown",
   "metadata": {},
   "source": [
    "### 5. Uttilizo del secondo modelo ML per fare la predizione del \"best_price\" per le polise assicurative nel dataframe \"quotazioni_df\""
   ]
  },
  {
   "cell_type": "code",
   "execution_count": null,
   "metadata": {},
   "outputs": [],
   "source": [
    "# Ho scelto di uttilizare l'algoritmo Random Forest Regrsssor con gli hyperparameters che hanno mostrato il migliore risultato\n",
    "features_best_price = ['veh_doors_number', 'veh_value', 'veh_kw_group', 'veh_height', 'veh_length', 'veh_width', 'veh_mass', 'veh_mileage_cpt', 'pol_classe_cu', 'atr_claims', 'tipo_guida', 'insurance_type','contr_marital_status', 'contr_occupation', 'contr_res_prov', 'contr_res_region_name', 'veh_brand_name', 'veh_alimentazione','year_contr_birth_date', 'year_veh_registration_date', 'year_veh_purchase_date', 'contr_license_year', 'predicted_risk']\n",
    "x_pred_best_price = quotazioni_con_risk_df[features_best_price]\n",
    "\n",
    "# Predizione del risk \n",
    "prediction_best_price = model_best_price.predict(x_pred_best_price)\n",
    "\n",
    "# Transformazione del esito da una lista in un dataframe e rinominare il dataframe come \"predicted_best_price\"\n",
    "prediction_best_price = pd.DataFrame(prediction_best_price)\n",
    "prediction_best_price.rename(columns = {0:'predicted_best_price'}, inplace = True)"
   ]
  },
  {
   "cell_type": "markdown",
   "metadata": {},
   "source": [
    "### 6. Salvare l'esito in un CSV file"
   ]
  },
  {
   "cell_type": "code",
   "execution_count": null,
   "metadata": {},
   "outputs": [],
   "source": [
    "prediction_best_price.to_csv(\"predicted_best_price.csv\")"
   ]
  },
  {
   "cell_type": "code",
   "execution_count": null,
   "metadata": {},
   "outputs": [],
   "source": []
  }
 ],
 "metadata": {
  "kernelspec": {
   "display_name": "Python 3",
   "language": "python",
   "name": "python3"
  },
  "language_info": {
   "codemirror_mode": {
    "name": "ipython",
    "version": 3
   },
   "file_extension": ".py",
   "mimetype": "text/x-python",
   "name": "python",
   "nbconvert_exporter": "python",
   "pygments_lexer": "ipython3",
   "version": "3.8.5"
  }
 },
 "nbformat": 4,
 "nbformat_minor": 4
}
